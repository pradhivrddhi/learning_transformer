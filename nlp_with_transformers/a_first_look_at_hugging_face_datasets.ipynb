{
 "cells": [
  {
   "cell_type": "code",
   "execution_count": 1,
   "metadata": {},
   "outputs": [],
   "source": [
    "from datasets import list_datasets, load_dataset"
   ]
  },
  {
   "cell_type": "code",
   "execution_count": 12,
   "metadata": {},
   "outputs": [],
   "source": [
    "import pandas as pd"
   ]
  },
  {
   "cell_type": "code",
   "execution_count": 33,
   "metadata": {},
   "outputs": [],
   "source": [
    "import matplotlib.pyplot as plt"
   ]
  },
  {
   "cell_type": "code",
   "execution_count": 2,
   "metadata": {},
   "outputs": [
    {
     "name": "stderr",
     "output_type": "stream",
     "text": [
      "C:\\Users\\nitin\\AppData\\Local\\Temp\\ipykernel_12064\\3074329163.py:1: FutureWarning: list_datasets is deprecated and will be removed in the next major version of datasets. Use 'huggingface_hub.list_datasets' instead.\n",
      "  all_datasets = list_datasets()\n"
     ]
    },
    {
     "name": "stdout",
     "output_type": "stream",
     "text": [
      "There are 126298 datasets currently available on the Hub.\n",
      "The first 10 are: ['acronym_identification', 'ade_corpus_v2', 'UCLNLP/adversarial_qa', 'aeslc', 'afrikaans_ner_corpus', 'ag_news', 'allenai/ai2_arc', 'air_dialogue', 'ajgt_twitter_ar', 'allegro_reviews']\n"
     ]
    }
   ],
   "source": [
    "all_datasets = list_datasets()\n",
    "print(f'There are {len(all_datasets)} datasets currently available on the Hub.')\n",
    "print(f'The first 10 are: {all_datasets[:10]}')"
   ]
  },
  {
   "cell_type": "code",
   "execution_count": 3,
   "metadata": {},
   "outputs": [
    {
     "name": "stdout",
     "output_type": "stream",
     "text": [
      "Fraser/python-lines\n",
      "Fraser/python-state-changes\n",
      "bigscience-catalogue-data-dev/lm_code_github-eval_subset\n",
      "espejelomar/code_search_net_python_10000_examples\n",
      "formermagic/github_python_1m\n",
      "notional/notional-python\n",
      "sia-precision-education/pile_python\n",
      "thomwolf/github-python\n",
      "h4iku/coconut_python2010\n",
      "h4iku/coconut_python2010_preprocessed\n",
      "bigscience-data/roots_ar_uncorpus\n",
      "bigscience-data/roots_en_uncorpus\n",
      "bigscience-data/roots_es_uncorpus\n",
      "bigscience-data/roots_fr_uncorpus\n",
      "bigscience-data/roots_zh_uncorpus\n",
      "jamescalam/reddit-python\n",
      "loubnabnl/tokenized-github-code-python\n",
      "bigscience-catalogue-data/bias-shades\n",
      "bigscience-data/roots_ar_arabench\n",
      "bigscience-data/roots_ar_labr\n",
      "bigscience-data/roots_ar_wikinews\n",
      "bigscience-data/roots_ar_wikiquote\n",
      "bigscience-data/roots_ar_wikiversity\n",
      "bigscience-data/roots_ar_wiktionary\n",
      "bigscience-data/roots_ca_catalan_government_crawling\n",
      "bigscience-data/roots_ar_wikisource\n",
      "bigscience-data/roots_ca_enriched_conllu_ancora_for_ml_training\n",
      "bigscience-data/roots_ar_wikipedia\n",
      "bigscience-data/roots_ca_tecla\n",
      "bigscience-data/roots_ca_vilaquad\n",
      "bigscience-data/roots_ca_parlament_parla\n",
      "bigscience-data/roots_ca_ted_talks_iwslt\n",
      "bigscience-data/roots_ca_catalan_textual_corpus\n",
      "bigscience-data/roots_ca_xquad_ca\n",
      "bigscience-data/roots_ca_wikiquote\n",
      "bigscience-data/roots_ca_wikisource\n",
      "bigscience-data/roots_ca_wikibooks\n",
      "bigscience-data/roots_ca_wikimedia\n",
      "bigscience-data/roots_ca_viquiquad\n",
      "bigscience-data/roots_ca_wikinews\n",
      "bigscience-data/roots_ca_wikipedia\n",
      "bigscience-data/roots_en_odiencorp\n",
      "bigscience-data/roots_en_book_dash_books\n",
      "bigscience-data/roots_en_no_code_stackexchange\n",
      "bigscience-data/roots_code_stackexchange\n",
      "bigscience-data/roots_ar_wikibooks\n",
      "bigscience-data/roots_ar_ted_talks_iwslt\n",
      "bigscience-data/roots_ar_tashkeela\n",
      "bigscience-data/roots_ar_sanad\n",
      "bigscience-data/roots_ar_openiti_proc\n",
      "bigscience-data/roots_en_the_pile_europarl\n",
      "bigscience-data/roots_en_ted_talks_iwslt\n",
      "bigscience-data/roots_en_royal_society_corpus\n",
      "bigscience-data/roots_en_wikinews\n",
      "bigscience-data/roots_en_wikiversity\n",
      "bigscience-data/roots_en_wikibooks\n",
      "bigscience-data/roots_en_wikiquote\n",
      "bigscience-data/roots_en_wikivoyage\n",
      "bigscience-data/roots_en_wikipedia\n",
      "bigscience-data/roots_en_wiktionary\n",
      "bigscience-data/roots_en_the_pile_uspto\n",
      "bigscience-data/roots_es_ted_talks_iwslt\n",
      "bigscience-data/roots_es_wikibooks\n",
      "bigscience-data/roots_es_the_pile_europarl\n",
      "bigscience-data/roots_es_wikinews\n",
      "bigscience-data/roots_es_wikipedia\n",
      "bigscience-data/roots_es_wikiquote\n",
      "bigscience-data/roots_es_wikiversity\n",
      "bigscience-data/roots_es_wiktionary\n",
      "bigscience-data/roots_es_wikivoyage\n",
      "bigscience-data/roots_es_wikisource\n",
      "bigscience-data/roots_eu_ted_talks_iwslt\n",
      "bigscience-data/roots_eu_wikibooks\n",
      "bigscience-data/roots_eu_bsbasque\n",
      "bigscience-data/roots_eu_wikisource\n",
      "bigscience-data/roots_fr_book_dash_books\n",
      "bigscience-data/roots_eu_wikiquote\n",
      "bigscience-data/roots_eu_wiktionary\n",
      "bigscience-data/roots_eu_wikipedia\n",
      "bigscience-data/roots_fr_ted_talks_iwslt\n",
      "bigscience-data/roots_fr_wikibooks\n",
      "bigscience-data/roots_fr_wikinews\n",
      "bigscience-data/roots_fr_the_pile_europarl\n",
      "bigscience-data/roots_fr_wikiquote\n",
      "bigscience-data/roots_fr_wiktionary\n",
      "bigscience-data/roots_fr_wikiversity\n",
      "bigscience-data/roots_fr_wikivoyage\n",
      "bigscience-data/roots_fr_wikipedia\n",
      "bigscience-data/roots_id_indo4b_jw300\n",
      "bigscience-data/roots_id_indo4b_talpco\n",
      "bigscience-data/roots_id_indonesian_frog_storytelling_corpus\n",
      "bigscience-data/roots_id_indonesian_news_corpus\n",
      "bigscience-data/roots_fr_wikisource\n",
      "bigscience-data/roots_id_indonesian_news_articles_2017\n",
      "bigscience-data/roots_id_indonli\n",
      "bigscience-data/roots_id_indosum\n",
      "bigscience-data/roots_id_wikimedia\n",
      "bigscience-data/roots_id_wikisource\n",
      "bigscience-data/roots_id_wikipedia\n",
      "bigscience-data/roots_id_ted_talks_iwslt\n",
      "bigscience-data/roots_id_wikiquote\n",
      "bigscience-data/roots_id_wikibooks\n",
      "bigscience-data/roots_id_wiktionary\n",
      "bigscience-data/roots_indic-as_ted_talks_iwslt\n",
      "bigscience-data/roots_indic-as_wiktionary\n",
      "bigscience-data/roots_indic-as_wikipedia\n",
      "bigscience-data/roots_indic-as_wikisource\n",
      "bigscience-data/roots_indic-bn_mkb\n",
      "bigscience-data/roots_indic-bn_bengali_question_answering\n",
      "bigscience-data/roots_indic-bn_bangla_sentiment_classification_datasets\n",
      "bigscience-data/roots_indic-bn_indic_nlp_corpus\n",
      "bigscience-data/roots_indic-bn_pib\n",
      "bigscience-data/roots_indic-bn_ted_talks_iwslt\n",
      "bigscience-data/roots_indic-bn_wikivoyage\n",
      "bigscience-data/roots_indic-bn_wikibooks\n",
      "bigscience-data/roots_indic-bn_wiktionary\n",
      "bigscience-data/roots_indic-bn_wikipedia\n",
      "bigscience-data/roots_indic-gu_indic_nlp_corpus\n",
      "bigscience-data/roots_indic-bn_bangla_lm\n",
      "bigscience-data/roots_indic-bn_wikisource\n",
      "bigscience-data/roots_indic-gu_ted_talks_iwslt\n",
      "bigscience-data/roots_indic-gu_mkb\n",
      "bigscience-data/roots_indic-gu_pib\n",
      "bigscience-data/roots_indic-gu_wikiquote\n",
      "bigscience-data/roots_indic-gu_wiktionary\n",
      "bigscience-data/roots_indic-gu_wikipedia\n",
      "bigscience-data/roots_indic-gu_wikisource\n",
      "bigscience-data/roots_indic-hi_mkb\n",
      "bigscience-data/roots_indic-hi_ted_talks_iwslt\n",
      "bigscience-data/roots_indic-hi_pib\n",
      "bigscience-data/roots_indic-hi_iitb_english_hindi_corpus\n",
      "bigscience-data/roots_indic-hi_wikiversity\n",
      "bigscience-data/roots_indic-hi_wikibooks\n",
      "bigscience-data/roots_indic-hi_wikimedia\n",
      "bigscience-data/roots_indic-hi_wiktionary\n",
      "bigscience-data/roots_indic-hi_wikiquote\n",
      "bigscience-data/roots_indic-hi_wikivoyage\n",
      "bigscience-data/roots_indic-hi_wikipedia\n",
      "bigscience-data/roots_indic-hi_indic_nlp_corpus\n",
      "bigscience-data/roots_indic-hi_wikisource\n",
      "bigscience-data/roots_indic-kn_ted_talks_iwslt\n",
      "bigscience-data/roots_indic-kn_indic_nlp_corpus\n",
      "bigscience-data/roots_indic-kn_wiktionary\n",
      "bigscience-data/roots_indic-kn_wikiquote\n",
      "bigscience-data/roots_indic-kn_wikipedia\n",
      "bigscience-data/roots_indic-kn_wikisource\n",
      "bigscience-data/roots_indic-ml_ted_talks_iwslt\n",
      "bigscience-data/roots_indic-ml_indic_nlp_corpus\n",
      "bigscience-data/roots_indic-ml_pib\n",
      "bigscience-data/roots_indic-ml_mkb\n",
      "bigscience-data/roots_indic-ml_wikibooks\n",
      "bigscience-data/roots_indic-mr_pib\n",
      "bigscience-data/roots_indic-ml_wikipedia\n",
      "bigscience-data/roots_indic-ml_wiktionary\n",
      "bigscience-data/roots_indic-mr_mkb\n",
      "bigscience-data/roots_indic-ml_wikiquote\n",
      "bigscience-data/roots_indic-ml_wikisource\n",
      "bigscience-data/roots_indic-mr_indic_nlp_corpus\n",
      "bigscience-data/roots_indic-mr_wiktionary\n",
      "bigscience-data/roots_indic-or_mkb\n",
      "bigscience-data/roots_indic-mr_wikiquote\n",
      "bigscience-data/roots_indic-or_pib\n",
      "bigscience-data/roots_indic-mr_ted_talks_iwslt\n",
      "bigscience-data/roots_indic-or_odiencorp\n",
      "bigscience-data/roots_indic-mr_wikibooks\n",
      "bigscience-data/roots_indic-mr_wikipedia\n",
      "bigscience-data/roots_indic-mr_wikisource\n",
      "bigscience-data/roots_indic-or_indic_nlp_corpus\n",
      "bigscience-data/roots_indic-or_wikisource\n",
      "bigscience-data/roots_indic-or_wikipedia\n",
      "bigscience-data/roots_indic-or_wiktionary\n",
      "bigscience-data/roots_indic-pa_indic_nlp_corpus\n",
      "bigscience-data/roots_indic-ta_mkb\n",
      "bigscience-data/roots_indic-pa_ted_talks_iwslt\n",
      "bigscience-data/roots_indic-pa_wikibooks\n",
      "bigscience-data/roots_indic-pa_pib\n",
      "bigscience-data/roots_indic-pa_wiktionary\n",
      "bigscience-data/roots_indic-pa_wikipedia\n",
      "bigscience-data/roots_indic-pa_wikisource\n",
      "bigscience-data/roots_indic-ta_indic_nlp_corpus\n",
      "bigscience-data/roots_indic-ta_wikiquote\n",
      "bigscience-data/roots_indic-ta_wikipedia\n",
      "bigscience-data/roots_indic-ta_pib\n",
      "bigscience-data/roots_indic-ta_ted_talks_iwslt\n",
      "bigscience-data/roots_indic-ta_wikinews\n",
      "bigscience-data/roots_indic-ta_wikibooks\n",
      "bigscience-data/roots_indic-te_pib\n",
      "bigscience-data/roots_indic-te_mkb\n",
      "bigscience-data/roots_indic-ta_wikisource\n",
      "bigscience-data/roots_indic-te_indic_nlp_corpus\n",
      "bigscience-data/roots_indic-te_ted_talks_iwslt\n",
      "bigscience-data/roots_indic-ur_mkb\n",
      "bigscience-data/roots_indic-te_wikibooks\n",
      "bigscience-data/roots_indic-te_wikiquote\n",
      "bigscience-data/roots_indic-te_wiktionary\n",
      "bigscience-data/roots_indic-te_wikipedia\n",
      "bigscience-data/roots_indic-ur_leipzig_wortschatz_urdu_newscrawl_2016_sentences\n",
      "bigscience-data/roots_indic-te_wikisource\n",
      "bigscience-data/roots_indic-ur_leipzig_wortschatz_urdu-pk_web_2019_sentences\n",
      "bigscience-data/roots_indic-ur_wikibooks\n",
      "bigscience-data/roots_indic-ur_ted_talks_iwslt\n",
      "bigscience-data/roots_indic-ur_pib\n",
      "bigscience-data/roots_indic-ur_wiktionary\n",
      "bigscience-data/roots_indic-ur_wikiquote\n",
      "bigscience-data/roots_indic-ur_urdu-monolingual-corpus\n",
      "bigscience-data/roots_indic-ur_wikipedia\n",
      "bigscience-data/roots_pt_wikiquote\n",
      "bigscience-data/roots_pt_wikinews\n",
      "bigscience-data/roots_pt_ted_talks_iwslt\n",
      "bigscience-data/roots_pt_wikimedia\n",
      "bigscience-data/roots_pt_wikibooks\n",
      "bigscience-data/roots_pt_wikipedia\n",
      "bigscience-data/roots_pt_the_pile_europarl\n",
      "bigscience-data/roots_pt_wikisource\n",
      "bigscience-data/roots_pt_wikiversity\n",
      "bigscience-data/roots_pt_wikivoyage\n",
      "bigscience-data/roots_pt_wiktionary\n",
      "bigscience-data/roots_vi_data_on_covid_19_news_coverage_in_vietnam\n",
      "bigscience-data/roots_vi_wikiquote\n",
      "bigscience-data/roots_vi_wikivoyage\n",
      "bigscience-data/roots_vi_ted_talks_iwslt\n",
      "bigscience-data/roots_vi_wikibooks\n",
      "bigscience-data/roots_vi_vietnamese_poetry\n",
      "bigscience-data/roots_vi_wikisource\n",
      "bigscience-data/roots_vi_wikipedia\n",
      "bigscience-data/roots_vi_wiktionary\n",
      "bigscience-data/roots_zh-cn_wikipedia\n",
      "bigscience-data/roots_zh_du_reader\n",
      "bigscience-data/roots_vi_binhvq_news_corpus\n",
      "bigscience-data/roots_zh_ted_talks_iwslt\n",
      "bigscience-data/roots_zh_wikibooks\n",
      "bigscience-data/roots_zh-tw_wikipedia\n",
      "bigscience-data/roots_zh_wikiversity\n",
      "bigscience-data/roots_zh_wikinews\n",
      "bigscience-data/roots_zh_wikiquote\n",
      "bigscience-data/roots_zh_wikivoyage\n",
      "angie-chen55/python-github-code\n",
      "tomekkorbak/python-github-code\n",
      "spencer/python_slack\n",
      "hugginglearners/data-science-job-salaries\n",
      "espejelomar/data-science-job-salaries\n",
      "shwetha729/quantum-machine-learning\n",
      "LawalAfeez/science-dataset\n",
      "kejian/codesearchnet-python-raw\n",
      "kejian/codesearchnet-python-pep8-v1\n",
      "kejian/codesearchnet-python-raw-457k\n",
      "kejian/codesearchnet-python-pep8-full\n",
      "kejian/codesearchnet-python-rebalanced\n",
      "kejian/codesearchnet-python-linelen40-full\n",
      "Mtonks/humanoidartificialintelligence\n",
      "pythonist/PubMedQA\n",
      "kejian/codesearchnet-python-rebalanced-linelevel-scored\n",
      "Pokernights/Musicindustry\n",
      "cakiki/python_paths\n",
      "datasciencemmw/current-data\n",
      "loubnabnl/python_comment_code_ratio_08\n",
      "dipesh/python-code-ds-mini\n",
      "EddieChen372/python_vul_cvefix\n",
      "EddieChen372/python_vul_cvefix_small\n",
      "autoevaluate/autoeval-eval-hendrycks_test-machine_learning-af1921-2535877708\n",
      "reshinthadith/synthetic_program_synthesis_python_1M\n",
      "Dahoas/code-review-instruct-critique-revision-python\n",
      "reshinthadith/pairwise-code-review-instruct-critique-revision-python\n",
      "reshinthadith/2048_has_code_filtered_base_code_review_python\n",
      "reshinthadith/2048_has_code_filtered_base_code_review_python_based_on_property\n",
      "martino-canavate/50-pythonclean-dataset\n",
      "nasa-cisto-data-science-group/satvision-pretrain-small\n",
      "lz88/python_comment_code_ratio_08\n",
      "koutch/stackoverflow_python\n",
      "suriyagunasekar/stackoverflow-python-with-meta-data\n",
      "calum/the-stack-smol-python-docstrings\n",
      "KonradSzafer/stackoverflow_python_preprocessed\n",
      "trelent/the-stack-dedup-python-docstrings-1.0-percent-unified\n",
      "roszcz/internship-midi-data-science\n",
      "datadrivenscience/ship-detection\n",
      "loubnabnl/jupyter_python_max_line_length_1000\n",
      "nasa-cisto-data-science-group/modis-lake-powell-toy-dataset\n",
      "bigcode/pseudo-labeled-python-data-pii-detection-filtered\n",
      "ashwinipython/medical\n",
      "Muennighoff/python-bugs\n",
      "semeru/code-text-python\n",
      "Nomon/nva-kuroe_by_python_octopus\n",
      "datapythonista/generative_ai_test1\n",
      "learningmachineaz/translate_enaz_10m\n",
      "DavidMOBrien/2000-python\n",
      "nasa-cisto-data-science-group/modis-lake-powell-raster-dataset\n",
      "joey234/mmlu-machine_learning-neg\n",
      "Sridevi/python_textbooks\n",
      "CM/codexglue_code2text_python\n",
      "iamketan25/python-qa-instructions-dataset\n",
      "lucasmccabe-lmi/oig_small_chip2_python\n",
      "joey234/mmlu-machine_learning-neg-prepend\n",
      "pythonist/covid\n",
      "joey234/mmlu-machine_learning-verbal-neg-prepend\n",
      "pythonist/political_d\n",
      "joey234/mmlu-machine_learning-rule-neg\n",
      "baizhi002/python3.10.8\n",
      "joey234/mmlu-machine_learning-rule-neg-prepend\n",
      "joey234/mmlu-machine_learning-original-neg\n",
      "joey234/mmlu-machine_learning-original-neg-prepend\n",
      "joey234/mmlu-machine_learning-neg-answer\n",
      "dongjason/code_python\n",
      "noke8868/stockoverflow_python.mark.json\n",
      "Nan-Do/code-search-net-python\n",
      "joey234/mmlu-machine_learning\n",
      "datablations/python-megatron\n",
      "Nan-Do/instructional_code-search-net-python\n",
      "melissa-kang/learning_in_the_machine_audio\n",
      "ml6team/the-stack-smol-python\n",
      "joey234/mmlu-machine_learning-dev\n",
      "pavinithan1998/langchain_python_docs\n",
      "Nan-Do/reason_code-search-net-python\n",
      "iarejula/python-pb\n",
      "datadrivenscience/movie-genre-prediction\n",
      "bjoernp/the-stack-dedup-python-deu_Latn\n",
      "Edoh/manim_python\n",
      "Bin12345/fortran-python\n",
      "Aleksandra131325425/zachet_python_3\n",
      "microsoft/LCC_python\n",
      "voynow/python-repos-metadata-and-code\n",
      "gonglinyuan/code_search_net_python_tokenized\n",
      "lum-ai/metal-python-gentlenlp-explanatations\n",
      "rbiojout/odoo_python_15\n",
      "KikiQi/xlcost-tc-python-program\n",
      "nuprl/stack-dedup-python-testgen-starcoder-filter-v2\n",
      "ArtifactAI/arxiv_python_research_code\n",
      "iamtarun/python_code_instructions_18k_alpaca\n",
      "hangjoo/python-code-corpus\n",
      "clue2solve/langchain-python-integrations\n",
      "iamtarun/code_contest_python3_alpaca\n",
      "apcl/funcom-python\n",
      "CyberHarem/python_girlsfrontline\n",
      "Anonymous2023/dataset2python\n",
      "pythonist/nepllm\n",
      "TacoPrime/errored_python\n",
      "pythonist/demod\n",
      "TokenBender/python_evol_instruct_51k\n",
      "nathansutton/data-science-job-descriptions\n",
      "luisroque/instruct-python-llama2-20k\n",
      "luisroque/instruct-python-llama2-500k\n",
      "luisroque/instruct-python-500k\n",
      "joey234/mmlu-machine_learning-neg-prepend-fix\n",
      "gautamsabba/training_data_llama2_opposite_science\n",
      "aidenTim/instruct-python-llama2-20k\n",
      "Andyrasika/instruct-python-llama2-20k\n",
      "bjoernp/code_search_net_python_filtered_top50k\n",
      "bjoernp/code_search_net_python_processed_400k\n",
      "HydraLM/instruct-python-500k-standardized\n",
      "loubnabnl/wizardcoder-python-34b-generations\n",
      "Gauravvaid-shell/instruct-python-500k\n",
      "Gauravvaid-shell/instruct-python-llama2-20k\n",
      "datascience555/mock1\n",
      "gauravvaid/instruct-python-500k\n",
      "gauravvaid/instruct-python-llama2-20k\n",
      "theblackcat102/datascience-stackexchange-posts\n",
      "HydraLM/python-code-instructions-18k-alpaca-standardized\n",
      "vikp/python_code_instructions_filtered\n",
      "datascience555/mock_test_comments\n",
      "vikp/python_functions_filtered\n",
      "YoungPhlo/dahoas-code_review_instruct_critique_revision_python_standardized\n",
      "gauravvaid/python-code_samples\n",
      "antolin/python-150_interduplication\n",
      "jaty54/datapython\n",
      "Programming-Language/codeagent-python\n",
      "khalidalt/python_code_instructions_18k_alpaca-standardized\n",
      "aadajinkya/python_code\n",
      "aadajinkya/python_codes_sample\n",
      "lum-ai/metal-python-synthetic-explanations-gpt4\n",
      "yvelos/python_code_instructions_18k_alpaca\n",
      "open-llm-leaderboard/details_qualis2006__llama-2-7b-int4-python-code-18k\n",
      "kye/all-edwardzhang-python-code\n",
      "kye/all-Nikita-python-code\n",
      "kye/all-google-ai-python-code\n",
      "kye/all-microsoft-python-code\n",
      "kye/all-nvidia-python-code\n",
      "kye/all-lucidrain-python-3\n",
      "kye/all-deepmind-code-python\n",
      "kye/all-meta-research-python-code\n",
      "kye/all-HazyResearch-python-code\n",
      "kye/all-huggingface-python-code\n",
      "kye/all-allenai-python\n",
      "kye/all-kye-python-code-2\n",
      "kye/all-lucidrain-code-python-tokenized\n",
      "kye/all-lucidrain-code-python-tokenized-8192\n",
      "infinityofspace/python_codestyles-random-500\n",
      "infinityofspace/python_codestyles-single-500\n",
      "infinityofspace/python_codestyles-mixed1-500\n",
      "infinityofspace/python_codestyles-random-1k\n",
      "infinityofspace/python_codestyles-single-1k\n",
      "infinityofspace/python_codestyles-mixed1-1k\n",
      "kye/all-lucidrain-code-python-tokenized-8192-2\n",
      "kye/all-lucidrain-code-python-tokenized-8192-3\n",
      "kye/all-lucidrain-code-python-tokenized-8192-4\n",
      "kye/all-huggingface-python-code-2\n",
      "thanhnew2001/python\n",
      "linyalan/python-bugs-name-noise-1\n",
      "RaymondLi/the_stack_v2_python\n",
      "phongmt184172/python_data_27k\n",
      "kye/all-lucidrain-code-python-tokenized-65536\n",
      "kye/all-lucidrain-code-python-tokenized-65536-1\n",
      "kye/lucidrains-python-3-8192-mistral-7b\n",
      "frank-chieng/python_datamining\n",
      "phongmt184172/python_code_version2\n",
      "nasa-cisto-data-science-group/senegal-lcluc-tutorial\n",
      "flytech/llama-python-codes-30k\n",
      "loubnabnl/old_python\n",
      "mesolitica/translated-python-evol-instruct-51k\n",
      "hlhdatscience/guanaco-spanish-dataset\n",
      "pharaouk/python3\n",
      "AdapterOcean/python3-standardized_unified\n",
      "AdapterOcean/python3-standardized_embedded\n",
      "AdapterOcean/python3-standardized_cluster_0_std\n",
      "AdapterOcean/python3-standardized_cluster_0_alpaca\n",
      "AdapterOcean/python3-standardized_cluster_0\n",
      "AdapterOcean/python3-standardized_cluster_1_std\n",
      "AdapterOcean/python3-standardized_cluster_1_alpaca\n",
      "AdapterOcean/python3-standardized_cluster_1\n",
      "AdapterOcean/python3-standardized_cluster_2_std\n",
      "AdapterOcean/python3-standardized_cluster_2_alpaca\n",
      "AdapterOcean/python3-standardized_cluster_2\n",
      "AdapterOcean/python3-standardized_cluster_3_std\n",
      "AdapterOcean/python3-standardized_cluster_3_alpaca\n",
      "AdapterOcean/python3-standardized_cluster_3\n",
      "AdapterOcean/python3-standardized_cluster_4_std\n",
      "AdapterOcean/python3-standardized_cluster_4_alpaca\n",
      "AdapterOcean/python3-standardized_cluster_4\n",
      "AdapterOcean/python3-standardized_cluster_5_std\n",
      "AdapterOcean/python3-standardized_cluster_5_alpaca\n",
      "AdapterOcean/python3-standardized_cluster_5\n",
      "AdapterOcean/python3-standardized_cluster_6_std\n",
      "AdapterOcean/python3-standardized_cluster_6_alpaca\n",
      "AdapterOcean/python3-standardized_cluster_6\n",
      "AdapterOcean/python3-standardized_cluster_7_std\n",
      "AdapterOcean/python3-standardized_cluster_7_alpaca\n",
      "AdapterOcean/python3-standardized_cluster_7\n",
      "AdapterOcean/python3-standardized_cluster_8_std\n",
      "AdapterOcean/python3-standardized_cluster_8_alpaca\n",
      "AdapterOcean/python3-standardized_cluster_8\n",
      "AdapterOcean/python3-standardized_cluster_9_std\n",
      "AdapterOcean/python3-standardized_cluster_9_alpaca\n",
      "AdapterOcean/python3-standardized_cluster_9\n",
      "AdapterOcean/python3-standardized_cluster_10_std\n",
      "AdapterOcean/python3-standardized_cluster_10_alpaca\n",
      "AdapterOcean/python3-standardized_cluster_10\n",
      "AdapterOcean/python3-standardized_cluster_11_std\n",
      "AdapterOcean/python3-standardized_cluster_11_alpaca\n",
      "AdapterOcean/python3-standardized_cluster_11\n",
      "AdapterOcean/python3-standardized_cluster_12_std\n",
      "AdapterOcean/python3-standardized_cluster_12_alpaca\n",
      "AdapterOcean/python3-standardized_cluster_12\n",
      "AdapterOcean/python3-standardized_cluster_13_std\n",
      "AdapterOcean/python3-standardized_cluster_13_alpaca\n",
      "AdapterOcean/python3-standardized_cluster_13\n",
      "AdapterOcean/python3-standardized_cluster_14_std\n",
      "AdapterOcean/python3-standardized_cluster_14_alpaca\n",
      "AdapterOcean/python3-standardized_cluster_14\n",
      "AdapterOcean/python3-standardized_cluster_15_std\n",
      "AdapterOcean/python3-standardized_cluster_15_alpaca\n",
      "AdapterOcean/python3-standardized_cluster_15\n",
      "AdapterOcean/python3-standardized_cluster_16_std\n",
      "AdapterOcean/python3-standardized_cluster_16_alpaca\n",
      "AdapterOcean/python3-standardized_cluster_16\n",
      "AdapterOcean/python3-standardized_cluster_17_std\n",
      "AdapterOcean/python3-standardized_cluster_17_alpaca\n",
      "AdapterOcean/python3-standardized_cluster_17\n",
      "AdapterOcean/python3-standardized_cluster_18_std\n",
      "AdapterOcean/python3-standardized_cluster_18_alpaca\n",
      "AdapterOcean/python3-standardized_cluster_18\n",
      "AdapterOcean/python3-standardized_cluster_19_std\n",
      "AdapterOcean/python3-standardized_cluster_19_alpaca\n",
      "AdapterOcean/python3-standardized_cluster_19\n",
      "AdapterOcean/python3-standardized_cluster_20_std\n",
      "AdapterOcean/python3-standardized_cluster_20_alpaca\n",
      "AdapterOcean/python3-standardized_cluster_20\n",
      "AdapterOcean/python3-standardized_cluster_21_std\n",
      "AdapterOcean/python3-standardized_cluster_21_alpaca\n",
      "AdapterOcean/python3-standardized_cluster_21\n",
      "AdapterOcean/python3-standardized_cluster_22_std\n",
      "AdapterOcean/python3-standardized_cluster_22_alpaca\n",
      "AdapterOcean/python3-standardized_cluster_22\n",
      "AdapterOcean/python3-standardized_cluster_23_std\n",
      "AdapterOcean/python3-standardized_cluster_23_alpaca\n",
      "AdapterOcean/python3-standardized_cluster_23\n",
      "AdapterOcean/python3-standardized_cluster_24_std\n",
      "AdapterOcean/python3-standardized_cluster_24_alpaca\n",
      "AdapterOcean/python3-standardized_cluster_24\n",
      "AdapterOcean/python-code-instructions-18k-alpaca-standardized_unified\n",
      "AdapterOcean/python-code-instructions-18k-alpaca-standardized_embedded\n",
      "AdapterOcean/python-code-instructions-18k-alpaca-standardized_cluster_0_std\n",
      "AdapterOcean/python-code-instructions-18k-alpaca-standardized_cluster_0_alpaca\n",
      "AdapterOcean/python-code-instructions-18k-alpaca-standardized_cluster_0\n",
      "AdapterOcean/python-code-instructions-18k-alpaca-standardized_cluster_1_std\n",
      "AdapterOcean/python-code-instructions-18k-alpaca-standardized_cluster_1_alpaca\n",
      "AdapterOcean/python-code-instructions-18k-alpaca-standardized_cluster_1\n",
      "AdapterOcean/python-code-instructions-18k-alpaca-standardized_cluster_2_std\n",
      "AdapterOcean/python-code-instructions-18k-alpaca-standardized_cluster_2_alpaca\n",
      "AdapterOcean/python-code-instructions-18k-alpaca-standardized_cluster_2\n",
      "AdapterOcean/python-code-instructions-18k-alpaca-standardized_cluster_3_std\n",
      "AdapterOcean/python-code-instructions-18k-alpaca-standardized_cluster_3_alpaca\n",
      "pharaouk/pythonbook\n",
      "AdapterOcean/python-code-instructions-18k-alpaca-standardized_cluster_3\n",
      "AdapterOcean/python-code-instructions-18k-alpaca-standardized_cluster_4_std\n",
      "AdapterOcean/python-code-instructions-18k-alpaca-standardized_cluster_4_alpaca\n",
      "AdapterOcean/python-code-instructions-18k-alpaca-standardized_cluster_4\n",
      "AdapterOcean/python-code-instructions-18k-alpaca-standardized_cluster_5_std\n",
      "AdapterOcean/python-code-instructions-18k-alpaca-standardized_cluster_5_alpaca\n",
      "AdapterOcean/python-code-instructions-18k-alpaca-standardized_cluster_5\n",
      "AdapterOcean/python-code-instructions-18k-alpaca-standardized_cluster_6_std\n",
      "AdapterOcean/python-code-instructions-18k-alpaca-standardized_cluster_6_alpaca\n",
      "AdapterOcean/python-code-instructions-18k-alpaca-standardized_cluster_6\n",
      "AdapterOcean/python-code-instructions-18k-alpaca-standardized_cluster_7_std\n",
      "AdapterOcean/python-code-instructions-18k-alpaca-standardized_cluster_7_alpaca\n",
      "AdapterOcean/python-code-instructions-18k-alpaca-standardized_cluster_7\n",
      "AdapterOcean/python-code-instructions-18k-alpaca-standardized_cluster_8_std\n",
      "AdapterOcean/python-code-instructions-18k-alpaca-standardized_cluster_8_alpaca\n",
      "AdapterOcean/python-code-instructions-18k-alpaca-standardized_cluster_8\n",
      "AdapterOcean/python-code-instructions-18k-alpaca-standardized_cluster_9_std\n",
      "AdapterOcean/python-code-instructions-18k-alpaca-standardized_cluster_9_alpaca\n",
      "AdapterOcean/python-code-instructions-18k-alpaca-standardized_cluster_9\n",
      "AdapterOcean/pythonbook-standardized_unified\n",
      "AdapterOcean/pythonbook-standardized_embedded\n",
      "AdapterOcean/pythonbook-standardized_cluster_0_std\n",
      "AdapterOcean/pythonbook-standardized_cluster_0_alpaca\n",
      "AdapterOcean/pythonbook-standardized_cluster_0\n",
      "fahmiaziz/prepocced-pythonqa\n",
      "ASHu2/docs-python-v1\n",
      "AlignmentLab-AI/datasci-python\n",
      "AlignmentLab-AI/validated-python-instruct\n",
      "AlignmentLab-AI/multi-turn-debate-python\n",
      "gauravsirola/sas_to_python_base_dataset\n",
      "flytech/python-codes-25k\n",
      "JoaoJunior/formatted-python-code-APR\n",
      "HerlambangHaryo/jobtitle-jobindustry\n",
      "nadiamaqbool81/python_code_instructions_510_alpaca\n",
      "anton-l/python_sample_10k\n",
      "BEE-spoke-data/pile-python-filtered\n",
      "sickboy9665/stack-smol-python-pii_checks\n",
      "mjphayes/machine_learning_questions\n",
      "mengmengmmm/csn_python_trainuse\n",
      "JoaoJunior/python_encoded_processed_APR\n",
      "JoaoJunior/python_java_dataset_APR\n",
      "mponty/reordered_python_starcoderdata\n",
      "harryng4869/python-instruct-1k\n",
      "mengmengmmm/csn_python_trainuse_slice1\n",
      "mengmengmmm/csn_python_trainuse_slice2\n",
      "mengmengmmm/csn_python_trainuse_slice3\n",
      "mengmengmmm/csn_python_trainuse_slice4\n",
      "greatdarklord/python_dataset\n",
      "greatdarklord/python-raw-dataset\n",
      "starkosae/python-instruction\n",
      "Wanfq/python_code\n",
      "seongwoon/industry-occupation\n",
      "lum-ai/metal-python-synthetic-explanations-gpt4-raw\n",
      "lum-ai/metal-python-synthetic-explanations-gpt4-graphcodebert\n",
      "celinelee/thestack_python_threading\n",
      "cassanof/python-funcs\n",
      "lum-ai/metal-python-ood-climate-explanatations\n",
      "bezbozhnik/construction_industry\n",
      "jxm/python_code_alpaca__gtr_base__dpr\n",
      "CarlosFMarques/pythoneers\n",
      "open-llm-leaderboard/details_MexIvanov__zephyr-python-ru-merged\n",
      "open-llm-leaderboard/details_MexIvanov__zephyr-python-ru\n",
      "api-misuse/the-stack-python_api-10k\n",
      "hynky/code_search_net_python_func_names\n",
      "SagarKarmoker/python_code_summarization\n",
      "icpython/Spotter_Docs\n",
      "malaysia-ai/python-data-analytics\n",
      "colour-science/colour-checker-detection-dataset\n",
      "api-misuse/the-stack-python_api-10k-new\n",
      "open-llm-leaderboard/details_ed001__datascience-coder-6.7b\n",
      "MohamedSaeed-dev/python-text-to-code\n",
      "MohamedSaeed-dev/python_dataset_codes\n",
      "wesley7137/python_code_instructions_18k_formatted4autotrain\n",
      "ytzi/the-stack-dedup-python-filtered\n",
      "susnato/python_PRs\n",
      "jtatman/python-code-dataset-500k\n",
      "jtatman/pile_python_instruct_format\n",
      "jtatman/python-github-code-instruct-filtered-5k\n",
      "juraj-juraj/python_googlestyle_docstrings\n",
      "matlok/python-copilot-training-on-ai-research-repos\n",
      "matlok/python-copilot-training-from-many-repos-large\n",
      "matlok/python-image-copilot-training-using-class-knowledge-graphs\n",
      "matlok/python-image-copilot-training-using-function-knowledge-graphs\n",
      "matlok/python-image-copilot-training-using-inheritance-knowledge-graphs\n",
      "matlok/python-audio-copilot-training-using-class-knowledge-graphs\n",
      "matlok/python-image-copilot-training-using-import-knowledge-graphs\n",
      "matlok/python-text-copilot-training-instruct\n",
      "matlok/python-audio-copilot-training-using-function-knowledge-graphs\n",
      "matlok/python-audio-copilot-training-using-inheritance-knowledge-graphs\n",
      "matlok/python-audio-copilot-training-using-import-knowledge-graphs\n",
      "annawleo/python-algorithm-sourcecode\n",
      "DKYoon/starcoder-python-200k\n",
      "matlok/multimodal-python-copilot-training-overview\n",
      "matlok/python-text-copilot-training-instruct-ai-research\n",
      "matlok/python-text-copilot-training-instruct-ai-research-2024-01-27\n",
      "matlok/python-audio-copilot-training-using-class-knowledge-graphs-2024-01-27\n",
      "matlok/python-image-copilot-training-using-class-knowledge-graphs-2024-01-27\n",
      "jtatman/combined_coder_python\n",
      "ytzi/the-stack-dedup-python-filtered-gpt2\n",
      "dylanhogg/awesome-python\n",
      "brucewlee1/mmlu-machine-learning\n",
      "open-llm-leaderboard/details_NobodyExistsOnTheInternet__code-llama-70b-python-instruct\n",
      "matlok/python-text-copilot-training-instruct-ai-research-2024-02-03\n",
      "tianyang/repobench_python_v1.1\n",
      "matlok/python-text-copilot-training-instruct-ai-research-2024-02-10\n",
      "matlok/python-text-copilot-training-instruct-ai-research-2024-02-11\n",
      "thonypythony/Binary_classification_for_DCTandSVD_watermarks\n",
      "aleksanderhan/llama-python-bindings\n",
      "Megnis/python_code_instructions_18k_LlaMa2\n",
      "tyson0420/stackexchange-overflow-fil-python\n",
      "dllllb/datascience-bowl2019\n",
      "cassanof/multipl-t-python-sample\n",
      "cassanof/python_pass_fail_sample\n",
      "hollyyfc/tidytuesday_for_python\n",
      "Megnis/python_code_instructions_27k_Saiga\n",
      "Guychuk/epsilon-code-vulnerability-detection-python\n",
      "sg247/python-codes-25k-llama2\n",
      "songdemin/python_data_with_comments\n",
      "serhii-korobchenko/code_datascience_dataset\n",
      "nilq/small-python-stack\n",
      "vikenkd/mini-python_code_instructions\n",
      "Saravanan666/python-faq\n",
      "hirsuite/python-codes-mini-train\n",
      "wesley7137/python-25k-concat\n",
      "mgp123/datascience-stackexchange-with-similar-questions\n",
      "Saxo/en_ko_translation_social_science_linkbricks_single_dataset_with_prompt_text_huggingface_sampled\n",
      "Saxo/en_ko_translation_tech_science_linkbricks_single_dataset_with_prompt_text_huggingface_sampled\n",
      "Saxo/cn_ko_translation_tech_social_science_linkbricks_single_dataset_with_prompt_text_huggingface\n",
      "Saxo/jp_ko_translation_tech_social_science_linkbricks_single_dataset_with_prompt_text_huggingface\n",
      "Saxo/en_ko_translation_social_science_linkbricks_single_dataset_with_prompt_text_huggingface\n",
      "Saxo/en_ko_translation_tech_science_linkbricks_single_dataset_with_prompt_text_huggingface\n",
      "vikenkd/mini-python_code_instructions_research\n",
      "wheres-my-python/floorplans-cityscapes\n",
      "wheres-my-python/floors-cities-targz\n",
      "wheres-my-python/image-trial\n",
      "GusPuffy/python-decompiler-37-0.7-train\n",
      "felipesilfer/mba-data-science\n",
      "pythonist/staf_alpa_kkm\n",
      "pythonist/code_instruction_alpaca_kkm\n",
      "guidevit/python_code_summarization\n",
      "nilq/baby-python\n",
      "prhbrt/machine_learning_courses\n",
      "mesolitica/python-act\n",
      "slseanwu/ghcode_python_split_700k\n",
      "HirCoir/Alpaca-logica-programacion-y-python-claud\n",
      "asas-ai/python_code_instructions_18k_alpaca\n",
      "celinelee/python_fn_calls\n",
      "dvdmrs09/python-oasst\n",
      "dvdmrs09/python-oasst-split\n",
      "dvdmrs09/processed-oasst-python\n",
      "mole-code/continue-python-lib\n",
      "agicorp/python_code_instructions_18k_alpaca\n",
      "supramantest/stack_reduced_python_ipynb_only\n",
      "hanzla/datascience-instruct\n",
      "Anas989898/DPO-datascience\n",
      "juraj-juraj/python-docstring-human-gpt-generated-mix\n",
      "team-bay/data-science-qa\n",
      "ytzi/the-stack-dedup-python-filtered-all\n",
      "ytzi/the-stack-dedup-python-filtered-classes_imports\n",
      "ytzi/the-stack-dedup-python-filtered-dec_gen_async\n",
      "ytzi/the-stack-dedup-python-filtered-docstrings\n",
      "ytzi/the-stack-dedup-python-filtered-non_ascii\n",
      "DarqueDante/litgpt-the-stack-dedup-python-filtered-gpt2\n",
      "pharaouk/stack-v2-python\n",
      "Limour/llama-python-streamingllm-cache\n",
      "ruliad/stack-v2-python\n",
      "pharaouk/stack-v2-python-chunk3\n",
      "pharaouk/stack-v2-python-chunk1\n",
      "pharaouk/stack-v2-python-chunk2\n",
      "pharaouk/stack-v2-python-with-content-chunk1\n"
     ]
    }
   ],
   "source": [
    "for dataset in all_datasets:\n",
    "    if 'python' in dataset:\n",
    "        print(dataset)\n",
    "    elif 'data' in dataset:\n",
    "        if 'science' in dataset:\n",
    "            print(dataset)\n",
    "    elif 'artificial' in dataset:\n",
    "        if 'intelligence' in dataset:\n",
    "            print(dataset)\n",
    "    elif 'machine' in dataset:\n",
    "        if 'learning' in dataset:\n",
    "            print(dataset)\n",
    "    elif 'industry' in dataset:\n",
    "        print(dataset)"
   ]
  },
  {
   "cell_type": "markdown",
   "metadata": {},
   "source": [
    "## Loading Datasets"
   ]
  },
  {
   "cell_type": "markdown",
   "metadata": {},
   "source": [
    "We start with loading the emotions dataset from huggingface_hub for the text_classification"
   ]
  },
  {
   "cell_type": "code",
   "execution_count": 4,
   "metadata": {},
   "outputs": [
    {
     "name": "stderr",
     "output_type": "stream",
     "text": [
      "c:\\anaconda3\\Lib\\site-packages\\datasets\\load.py:1461: FutureWarning: The repository for emotion contains custom code which must be executed to correctly load the dataset. You can inspect the repository content at https://hf.co/datasets/emotion\n",
      "You can avoid this message in future by passing the argument `trust_remote_code=True`.\n",
      "Passing `trust_remote_code=True` will be mandatory to load this dataset from the next major release of `datasets`.\n",
      "  warnings.warn(\n"
     ]
    },
    {
     "data": {
      "application/vnd.jupyter.widget-view+json": {
       "model_id": "da003bb8ce144cc794ed66ffd6b18221",
       "version_major": 2,
       "version_minor": 0
      },
      "text/plain": [
       "Downloading builder script:   0%|          | 0.00/3.97k [00:00<?, ?B/s]"
      ]
     },
     "metadata": {},
     "output_type": "display_data"
    },
    {
     "data": {
      "application/vnd.jupyter.widget-view+json": {
       "model_id": "da98de653dea4cff9d4054620fb2a682",
       "version_major": 2,
       "version_minor": 0
      },
      "text/plain": [
       "Downloading metadata:   0%|          | 0.00/3.28k [00:00<?, ?B/s]"
      ]
     },
     "metadata": {},
     "output_type": "display_data"
    },
    {
     "data": {
      "application/vnd.jupyter.widget-view+json": {
       "model_id": "e171c0a7305f498a8e4f256c946bbfe2",
       "version_major": 2,
       "version_minor": 0
      },
      "text/plain": [
       "Downloading readme:   0%|          | 0.00/8.78k [00:00<?, ?B/s]"
      ]
     },
     "metadata": {},
     "output_type": "display_data"
    },
    {
     "data": {
      "application/vnd.jupyter.widget-view+json": {
       "model_id": "8ebbb8569be143b2b6896c14e7c5b12d",
       "version_major": 2,
       "version_minor": 0
      },
      "text/plain": [
       "Downloading data:   0%|          | 0.00/592k [00:00<?, ?B/s]"
      ]
     },
     "metadata": {},
     "output_type": "display_data"
    },
    {
     "data": {
      "application/vnd.jupyter.widget-view+json": {
       "model_id": "99c9590be28b48c9bda058c4eee7feb5",
       "version_major": 2,
       "version_minor": 0
      },
      "text/plain": [
       "Downloading data:   0%|          | 0.00/74.0k [00:00<?, ?B/s]"
      ]
     },
     "metadata": {},
     "output_type": "display_data"
    },
    {
     "data": {
      "application/vnd.jupyter.widget-view+json": {
       "model_id": "e2eeac8b02fb45d0bf0e4d688feab80e",
       "version_major": 2,
       "version_minor": 0
      },
      "text/plain": [
       "Downloading data:   0%|          | 0.00/74.9k [00:00<?, ?B/s]"
      ]
     },
     "metadata": {},
     "output_type": "display_data"
    },
    {
     "data": {
      "application/vnd.jupyter.widget-view+json": {
       "model_id": "ad481d3eb40f449bb03e8cbcb27f8ae9",
       "version_major": 2,
       "version_minor": 0
      },
      "text/plain": [
       "Generating train split:   0%|          | 0/16000 [00:00<?, ? examples/s]"
      ]
     },
     "metadata": {},
     "output_type": "display_data"
    },
    {
     "data": {
      "application/vnd.jupyter.widget-view+json": {
       "model_id": "b35c59748bb347fdbe0b10a4518aefb3",
       "version_major": 2,
       "version_minor": 0
      },
      "text/plain": [
       "Generating validation split:   0%|          | 0/2000 [00:00<?, ? examples/s]"
      ]
     },
     "metadata": {},
     "output_type": "display_data"
    },
    {
     "data": {
      "application/vnd.jupyter.widget-view+json": {
       "model_id": "1391692cfdc14259a0496b069e3687ef",
       "version_major": 2,
       "version_minor": 0
      },
      "text/plain": [
       "Generating test split:   0%|          | 0/2000 [00:00<?, ? examples/s]"
      ]
     },
     "metadata": {},
     "output_type": "display_data"
    },
    {
     "data": {
      "text/plain": [
       "DatasetDict({\n",
       "    train: Dataset({\n",
       "        features: ['text', 'label'],\n",
       "        num_rows: 16000\n",
       "    })\n",
       "    validation: Dataset({\n",
       "        features: ['text', 'label'],\n",
       "        num_rows: 2000\n",
       "    })\n",
       "    test: Dataset({\n",
       "        features: ['text', 'label'],\n",
       "        num_rows: 2000\n",
       "    })\n",
       "})"
      ]
     },
     "execution_count": 4,
     "metadata": {},
     "output_type": "execute_result"
    }
   ],
   "source": [
    "emotion = load_dataset('emotion')\n",
    "emotion"
   ]
  },
  {
   "cell_type": "code",
   "execution_count": 5,
   "metadata": {},
   "outputs": [
    {
     "data": {
      "text/plain": [
       "Dataset({\n",
       "    features: ['text', 'label'],\n",
       "    num_rows: 16000\n",
       "})"
      ]
     },
     "execution_count": 5,
     "metadata": {},
     "output_type": "execute_result"
    }
   ],
   "source": [
    "train_ds = emotion['train']\n",
    "train_ds"
   ]
  },
  {
   "cell_type": "code",
   "execution_count": 6,
   "metadata": {},
   "outputs": [
    {
     "data": {
      "text/plain": [
       "16000"
      ]
     },
     "execution_count": 6,
     "metadata": {},
     "output_type": "execute_result"
    }
   ],
   "source": [
    "len(train_ds)"
   ]
  },
  {
   "cell_type": "code",
   "execution_count": 8,
   "metadata": {},
   "outputs": [
    {
     "data": {
      "text/plain": [
       "{'text': 'i didnt feel humiliated', 'label': 0}"
      ]
     },
     "execution_count": 8,
     "metadata": {},
     "output_type": "execute_result"
    }
   ],
   "source": [
    "train_ds[0]"
   ]
  },
  {
   "cell_type": "code",
   "execution_count": 9,
   "metadata": {},
   "outputs": [
    {
     "data": {
      "text/plain": [
       "['text', 'label']"
      ]
     },
     "execution_count": 9,
     "metadata": {},
     "output_type": "execute_result"
    }
   ],
   "source": [
    "train_ds.column_names"
   ]
  },
  {
   "cell_type": "code",
   "execution_count": 15,
   "metadata": {},
   "outputs": [
    {
     "name": "stdout",
     "output_type": "stream",
     "text": [
      "{'text': Value(dtype='string', id=None), 'label': ClassLabel(names=['sadness', 'joy', 'love', 'anger', 'fear', 'surprise'], id=None)}\n"
     ]
    }
   ],
   "source": [
    "print(train_ds.features)"
   ]
  },
  {
   "cell_type": "code",
   "execution_count": 13,
   "metadata": {},
   "outputs": [
    {
     "data": {
      "text/html": [
       "<div>\n",
       "<style scoped>\n",
       "    .dataframe tbody tr th:only-of-type {\n",
       "        vertical-align: middle;\n",
       "    }\n",
       "\n",
       "    .dataframe tbody tr th {\n",
       "        vertical-align: top;\n",
       "    }\n",
       "\n",
       "    .dataframe thead th {\n",
       "        text-align: right;\n",
       "    }\n",
       "</style>\n",
       "<table border=\"1\" class=\"dataframe\">\n",
       "  <thead>\n",
       "    <tr style=\"text-align: right;\">\n",
       "      <th></th>\n",
       "      <th>text</th>\n",
       "      <th>label</th>\n",
       "    </tr>\n",
       "  </thead>\n",
       "  <tbody>\n",
       "    <tr>\n",
       "      <th>0</th>\n",
       "      <td>i didnt feel humiliated</td>\n",
       "      <td>0</td>\n",
       "    </tr>\n",
       "    <tr>\n",
       "      <th>1</th>\n",
       "      <td>i can go from feeling so hopeless to so damned...</td>\n",
       "      <td>0</td>\n",
       "    </tr>\n",
       "    <tr>\n",
       "      <th>2</th>\n",
       "      <td>im grabbing a minute to post i feel greedy wrong</td>\n",
       "      <td>3</td>\n",
       "    </tr>\n",
       "    <tr>\n",
       "      <th>3</th>\n",
       "      <td>i am ever feeling nostalgic about the fireplac...</td>\n",
       "      <td>2</td>\n",
       "    </tr>\n",
       "    <tr>\n",
       "      <th>4</th>\n",
       "      <td>i am feeling grouchy</td>\n",
       "      <td>3</td>\n",
       "    </tr>\n",
       "    <tr>\n",
       "      <th>5</th>\n",
       "      <td>ive been feeling a little burdened lately wasn...</td>\n",
       "      <td>0</td>\n",
       "    </tr>\n",
       "    <tr>\n",
       "      <th>6</th>\n",
       "      <td>ive been taking or milligrams or times recomme...</td>\n",
       "      <td>5</td>\n",
       "    </tr>\n",
       "    <tr>\n",
       "      <th>7</th>\n",
       "      <td>i feel as confused about life as a teenager or...</td>\n",
       "      <td>4</td>\n",
       "    </tr>\n",
       "    <tr>\n",
       "      <th>8</th>\n",
       "      <td>i have been with petronas for years i feel tha...</td>\n",
       "      <td>1</td>\n",
       "    </tr>\n",
       "    <tr>\n",
       "      <th>9</th>\n",
       "      <td>i feel romantic too</td>\n",
       "      <td>2</td>\n",
       "    </tr>\n",
       "  </tbody>\n",
       "</table>\n",
       "</div>"
      ],
      "text/plain": [
       "                                                text  label\n",
       "0                            i didnt feel humiliated      0\n",
       "1  i can go from feeling so hopeless to so damned...      0\n",
       "2   im grabbing a minute to post i feel greedy wrong      3\n",
       "3  i am ever feeling nostalgic about the fireplac...      2\n",
       "4                               i am feeling grouchy      3\n",
       "5  ive been feeling a little burdened lately wasn...      0\n",
       "6  ive been taking or milligrams or times recomme...      5\n",
       "7  i feel as confused about life as a teenager or...      4\n",
       "8  i have been with petronas for years i feel tha...      1\n",
       "9                                i feel romantic too      2"
      ]
     },
     "execution_count": 13,
     "metadata": {},
     "output_type": "execute_result"
    }
   ],
   "source": [
    "pd.DataFrame(train_ds[:10])"
   ]
  },
  {
   "cell_type": "code",
   "execution_count": 16,
   "metadata": {},
   "outputs": [
    {
     "data": {
      "text/html": [
       "<div>\n",
       "<style scoped>\n",
       "    .dataframe tbody tr th:only-of-type {\n",
       "        vertical-align: middle;\n",
       "    }\n",
       "\n",
       "    .dataframe tbody tr th {\n",
       "        vertical-align: top;\n",
       "    }\n",
       "\n",
       "    .dataframe thead th {\n",
       "        text-align: right;\n",
       "    }\n",
       "</style>\n",
       "<table border=\"1\" class=\"dataframe\">\n",
       "  <thead>\n",
       "    <tr style=\"text-align: right;\">\n",
       "      <th></th>\n",
       "      <th>0</th>\n",
       "    </tr>\n",
       "  </thead>\n",
       "  <tbody>\n",
       "    <tr>\n",
       "      <th>0</th>\n",
       "      <td>i didnt feel humiliated</td>\n",
       "    </tr>\n",
       "    <tr>\n",
       "      <th>1</th>\n",
       "      <td>i can go from feeling so hopeless to so damned...</td>\n",
       "    </tr>\n",
       "    <tr>\n",
       "      <th>2</th>\n",
       "      <td>im grabbing a minute to post i feel greedy wrong</td>\n",
       "    </tr>\n",
       "    <tr>\n",
       "      <th>3</th>\n",
       "      <td>i am ever feeling nostalgic about the fireplac...</td>\n",
       "    </tr>\n",
       "    <tr>\n",
       "      <th>4</th>\n",
       "      <td>i am feeling grouchy</td>\n",
       "    </tr>\n",
       "    <tr>\n",
       "      <th>5</th>\n",
       "      <td>ive been feeling a little burdened lately wasn...</td>\n",
       "    </tr>\n",
       "    <tr>\n",
       "      <th>6</th>\n",
       "      <td>ive been taking or milligrams or times recomme...</td>\n",
       "    </tr>\n",
       "    <tr>\n",
       "      <th>7</th>\n",
       "      <td>i feel as confused about life as a teenager or...</td>\n",
       "    </tr>\n",
       "    <tr>\n",
       "      <th>8</th>\n",
       "      <td>i have been with petronas for years i feel tha...</td>\n",
       "    </tr>\n",
       "    <tr>\n",
       "      <th>9</th>\n",
       "      <td>i feel romantic too</td>\n",
       "    </tr>\n",
       "  </tbody>\n",
       "</table>\n",
       "</div>"
      ],
      "text/plain": [
       "                                                   0\n",
       "0                            i didnt feel humiliated\n",
       "1  i can go from feeling so hopeless to so damned...\n",
       "2   im grabbing a minute to post i feel greedy wrong\n",
       "3  i am ever feeling nostalgic about the fireplac...\n",
       "4                               i am feeling grouchy\n",
       "5  ive been feeling a little burdened lately wasn...\n",
       "6  ive been taking or milligrams or times recomme...\n",
       "7  i feel as confused about life as a teenager or...\n",
       "8  i have been with petronas for years i feel tha...\n",
       "9                                i feel romantic too"
      ]
     },
     "execution_count": 16,
     "metadata": {},
     "output_type": "execute_result"
    }
   ],
   "source": [
    "pd.DataFrame(train_ds['text'][:10])"
   ]
  },
  {
   "cell_type": "markdown",
   "metadata": {},
   "source": [
    "## Local Datasets"
   ]
  },
  {
   "cell_type": "code",
   "execution_count": 17,
   "metadata": {},
   "outputs": [
    {
     "data": {
      "application/vnd.jupyter.widget-view+json": {
       "model_id": "37817af2b0bc4572933f64e629f9f561",
       "version_major": 2,
       "version_minor": 0
      },
      "text/plain": [
       "Generating train split: 0 examples [00:00, ? examples/s]"
      ]
     },
     "metadata": {},
     "output_type": "display_data"
    },
    {
     "data": {
      "text/plain": [
       "DatasetDict({\n",
       "    train: Dataset({\n",
       "        features: ['text'],\n",
       "        num_rows: 5275\n",
       "    })\n",
       "})"
      ]
     },
     "execution_count": 17,
     "metadata": {},
     "output_type": "execute_result"
    }
   ],
   "source": [
    "wizard_of_oz = load_dataset('text', data_files='../data/wizard_of_oz.txt')\n",
    "wizard_of_oz"
   ]
  },
  {
   "cell_type": "code",
   "execution_count": 19,
   "metadata": {},
   "outputs": [
    {
     "data": {
      "text/plain": [
       "{'text': ['\\ufeffDorothy and the Wizard in Oz',\n",
       "  '',\n",
       "  '',\n",
       "  'A Faithful Record of Their Amazing Adventures',\n",
       "  'in an Underground World; and How with the',\n",
       "  'Aid of Their Friends Zeb Hugson, Eureka',\n",
       "  'the Kitten, and Jim the Cab-Horse,',\n",
       "  'They Finally Reached the',\n",
       "  'Wonderful Land of Oz',\n",
       "  '']}"
      ]
     },
     "execution_count": 19,
     "metadata": {},
     "output_type": "execute_result"
    }
   ],
   "source": [
    "wizard_of_oz['train'][:10]"
   ]
  },
  {
   "cell_type": "markdown",
   "metadata": {},
   "source": [
    "## Data From Url"
   ]
  },
  {
   "cell_type": "code",
   "execution_count": 23,
   "metadata": {},
   "outputs": [],
   "source": [
    "dataset_url = 'https://www.dropbox.com/s/1pzkadrvffbqw6o/train.txt'"
   ]
  },
  {
   "cell_type": "code",
   "execution_count": 25,
   "metadata": {},
   "outputs": [
    {
     "name": "stdout",
     "output_type": "stream",
     "text": [
      "\n",
      "Saved under train.txt\n"
     ]
    }
   ],
   "source": [
    "!python -m wget {dataset_url}"
   ]
  },
  {
   "cell_type": "code",
   "execution_count": 27,
   "metadata": {},
   "outputs": [
    {
     "name": "stderr",
     "output_type": "stream",
     "text": [
      "c:\\anaconda3\\python.exe: No module named head\n"
     ]
    }
   ],
   "source": [
    "!python -m head -n 1 train.txt"
   ]
  },
  {
   "cell_type": "code",
   "execution_count": 28,
   "metadata": {},
   "outputs": [
    {
     "data": {
      "application/vnd.jupyter.widget-view+json": {
       "model_id": "406f09cd5b6544a681713932004c3e90",
       "version_major": 2,
       "version_minor": 0
      },
      "text/plain": [
       "Generating train split: 0 examples [00:00, ? examples/s]"
      ]
     },
     "metadata": {},
     "output_type": "display_data"
    },
    {
     "name": "stderr",
     "output_type": "stream",
     "text": [
      "Failed to read file 'C:\\GitHub\\learning_transformer\\nlp_with_transformers\\train.txt' with error <class 'pandas.errors.ParserError'>: Error tokenizing data. C error: Expected 2 fields in line 9, saw 11\n",
      "\n"
     ]
    },
    {
     "ename": "DatasetGenerationError",
     "evalue": "An error occurred while generating the dataset",
     "output_type": "error",
     "traceback": [
      "\u001b[1;31m---------------------------------------------------------------------------\u001b[0m",
      "\u001b[1;31mParserError\u001b[0m                               Traceback (most recent call last)",
      "File \u001b[1;32mc:\\anaconda3\\Lib\\site-packages\\datasets\\builder.py:1973\u001b[0m, in \u001b[0;36mArrowBasedBuilder._prepare_split_single\u001b[1;34m(self, gen_kwargs, fpath, file_format, max_shard_size, job_id)\u001b[0m\n\u001b[0;32m   1972\u001b[0m _time \u001b[38;5;241m=\u001b[39m time\u001b[38;5;241m.\u001b[39mtime()\n\u001b[1;32m-> 1973\u001b[0m \u001b[38;5;28;01mfor\u001b[39;00m _, table \u001b[38;5;129;01min\u001b[39;00m generator:\n\u001b[0;32m   1974\u001b[0m     \u001b[38;5;28;01mif\u001b[39;00m max_shard_size \u001b[38;5;129;01mis\u001b[39;00m \u001b[38;5;129;01mnot\u001b[39;00m \u001b[38;5;28;01mNone\u001b[39;00m \u001b[38;5;129;01mand\u001b[39;00m writer\u001b[38;5;241m.\u001b[39m_num_bytes \u001b[38;5;241m>\u001b[39m max_shard_size:\n",
      "File \u001b[1;32mc:\\anaconda3\\Lib\\site-packages\\datasets\\packaged_modules\\csv\\csv.py:194\u001b[0m, in \u001b[0;36mCsv._generate_tables\u001b[1;34m(self, files)\u001b[0m\n\u001b[0;32m    193\u001b[0m \u001b[38;5;28;01mtry\u001b[39;00m:\n\u001b[1;32m--> 194\u001b[0m     \u001b[38;5;28;01mfor\u001b[39;00m batch_idx, df \u001b[38;5;129;01min\u001b[39;00m \u001b[38;5;28menumerate\u001b[39m(csv_file_reader):\n\u001b[0;32m    195\u001b[0m         pa_table \u001b[38;5;241m=\u001b[39m pa\u001b[38;5;241m.\u001b[39mTable\u001b[38;5;241m.\u001b[39mfrom_pandas(df)\n",
      "File \u001b[1;32mc:\\anaconda3\\Lib\\site-packages\\pandas\\io\\parsers\\readers.py:1843\u001b[0m, in \u001b[0;36mTextFileReader.__next__\u001b[1;34m(self)\u001b[0m\n\u001b[0;32m   1842\u001b[0m \u001b[38;5;28;01mtry\u001b[39;00m:\n\u001b[1;32m-> 1843\u001b[0m     \u001b[38;5;28;01mreturn\u001b[39;00m \u001b[38;5;28mself\u001b[39m\u001b[38;5;241m.\u001b[39mget_chunk()\n\u001b[0;32m   1844\u001b[0m \u001b[38;5;28;01mexcept\u001b[39;00m \u001b[38;5;167;01mStopIteration\u001b[39;00m:\n",
      "File \u001b[1;32mc:\\anaconda3\\Lib\\site-packages\\pandas\\io\\parsers\\readers.py:1985\u001b[0m, in \u001b[0;36mTextFileReader.get_chunk\u001b[1;34m(self, size)\u001b[0m\n\u001b[0;32m   1984\u001b[0m     size \u001b[38;5;241m=\u001b[39m \u001b[38;5;28mmin\u001b[39m(size, \u001b[38;5;28mself\u001b[39m\u001b[38;5;241m.\u001b[39mnrows \u001b[38;5;241m-\u001b[39m \u001b[38;5;28mself\u001b[39m\u001b[38;5;241m.\u001b[39m_currow)\n\u001b[1;32m-> 1985\u001b[0m \u001b[38;5;28;01mreturn\u001b[39;00m \u001b[38;5;28mself\u001b[39m\u001b[38;5;241m.\u001b[39mread(nrows\u001b[38;5;241m=\u001b[39msize)\n",
      "File \u001b[1;32mc:\\anaconda3\\Lib\\site-packages\\pandas\\io\\parsers\\readers.py:1923\u001b[0m, in \u001b[0;36mTextFileReader.read\u001b[1;34m(self, nrows)\u001b[0m\n\u001b[0;32m   1917\u001b[0m \u001b[38;5;28;01mtry\u001b[39;00m:\n\u001b[0;32m   1918\u001b[0m     \u001b[38;5;66;03m# error: \"ParserBase\" has no attribute \"read\"\u001b[39;00m\n\u001b[0;32m   1919\u001b[0m     (\n\u001b[0;32m   1920\u001b[0m         index,\n\u001b[0;32m   1921\u001b[0m         columns,\n\u001b[0;32m   1922\u001b[0m         col_dict,\n\u001b[1;32m-> 1923\u001b[0m     ) \u001b[38;5;241m=\u001b[39m \u001b[38;5;28mself\u001b[39m\u001b[38;5;241m.\u001b[39m_engine\u001b[38;5;241m.\u001b[39mread(  \u001b[38;5;66;03m# type: ignore[attr-defined]\u001b[39;00m\n\u001b[0;32m   1924\u001b[0m         nrows\n\u001b[0;32m   1925\u001b[0m     )\n\u001b[0;32m   1926\u001b[0m \u001b[38;5;28;01mexcept\u001b[39;00m \u001b[38;5;167;01mException\u001b[39;00m:\n",
      "File \u001b[1;32mc:\\anaconda3\\Lib\\site-packages\\pandas\\io\\parsers\\c_parser_wrapper.py:234\u001b[0m, in \u001b[0;36mCParserWrapper.read\u001b[1;34m(self, nrows)\u001b[0m\n\u001b[0;32m    233\u001b[0m \u001b[38;5;28;01mif\u001b[39;00m \u001b[38;5;28mself\u001b[39m\u001b[38;5;241m.\u001b[39mlow_memory:\n\u001b[1;32m--> 234\u001b[0m     chunks \u001b[38;5;241m=\u001b[39m \u001b[38;5;28mself\u001b[39m\u001b[38;5;241m.\u001b[39m_reader\u001b[38;5;241m.\u001b[39mread_low_memory(nrows)\n\u001b[0;32m    235\u001b[0m     \u001b[38;5;66;03m# destructive to chunks\u001b[39;00m\n",
      "File \u001b[1;32mparsers.pyx:850\u001b[0m, in \u001b[0;36mpandas._libs.parsers.TextReader.read_low_memory\u001b[1;34m()\u001b[0m\n",
      "File \u001b[1;32mparsers.pyx:905\u001b[0m, in \u001b[0;36mpandas._libs.parsers.TextReader._read_rows\u001b[1;34m()\u001b[0m\n",
      "File \u001b[1;32mparsers.pyx:874\u001b[0m, in \u001b[0;36mpandas._libs.parsers.TextReader._tokenize_rows\u001b[1;34m()\u001b[0m\n",
      "File \u001b[1;32mparsers.pyx:891\u001b[0m, in \u001b[0;36mpandas._libs.parsers.TextReader._check_tokenize_status\u001b[1;34m()\u001b[0m\n",
      "File \u001b[1;32mparsers.pyx:2061\u001b[0m, in \u001b[0;36mpandas._libs.parsers.raise_parser_error\u001b[1;34m()\u001b[0m\n",
      "\u001b[1;31mParserError\u001b[0m: Error tokenizing data. C error: Expected 2 fields in line 9, saw 11\n",
      "\nThe above exception was the direct cause of the following exception:\n",
      "\u001b[1;31mDatasetGenerationError\u001b[0m                    Traceback (most recent call last)",
      "Cell \u001b[1;32mIn[28], line 1\u001b[0m\n\u001b[1;32m----> 1\u001b[0m emotions_local \u001b[38;5;241m=\u001b[39m load_dataset(\u001b[38;5;124m'\u001b[39m\u001b[38;5;124mcsv\u001b[39m\u001b[38;5;124m'\u001b[39m, data_files\u001b[38;5;241m=\u001b[39m\u001b[38;5;124m'\u001b[39m\u001b[38;5;124mtrain.txt\u001b[39m\u001b[38;5;124m'\u001b[39m, sep\u001b[38;5;241m=\u001b[39m\u001b[38;5;124m'\u001b[39m\u001b[38;5;124m;\u001b[39m\u001b[38;5;124m'\u001b[39m, names\u001b[38;5;241m=\u001b[39m[\u001b[38;5;124m'\u001b[39m\u001b[38;5;124mtext\u001b[39m\u001b[38;5;124m'\u001b[39m, \u001b[38;5;124m'\u001b[39m\u001b[38;5;124mlabel\u001b[39m\u001b[38;5;124m'\u001b[39m])\n\u001b[0;32m      2\u001b[0m emotions_local\n",
      "File \u001b[1;32mc:\\anaconda3\\Lib\\site-packages\\datasets\\load.py:2582\u001b[0m, in \u001b[0;36mload_dataset\u001b[1;34m(path, name, data_dir, data_files, split, cache_dir, features, download_config, download_mode, verification_mode, ignore_verifications, keep_in_memory, save_infos, revision, token, use_auth_token, task, streaming, num_proc, storage_options, trust_remote_code, **config_kwargs)\u001b[0m\n\u001b[0;32m   2579\u001b[0m try_from_hf_gcs \u001b[38;5;241m=\u001b[39m path \u001b[38;5;129;01mnot\u001b[39;00m \u001b[38;5;129;01min\u001b[39;00m _PACKAGED_DATASETS_MODULES\n\u001b[0;32m   2581\u001b[0m \u001b[38;5;66;03m# Download and prepare data\u001b[39;00m\n\u001b[1;32m-> 2582\u001b[0m builder_instance\u001b[38;5;241m.\u001b[39mdownload_and_prepare(\n\u001b[0;32m   2583\u001b[0m     download_config\u001b[38;5;241m=\u001b[39mdownload_config,\n\u001b[0;32m   2584\u001b[0m     download_mode\u001b[38;5;241m=\u001b[39mdownload_mode,\n\u001b[0;32m   2585\u001b[0m     verification_mode\u001b[38;5;241m=\u001b[39mverification_mode,\n\u001b[0;32m   2586\u001b[0m     try_from_hf_gcs\u001b[38;5;241m=\u001b[39mtry_from_hf_gcs,\n\u001b[0;32m   2587\u001b[0m     num_proc\u001b[38;5;241m=\u001b[39mnum_proc,\n\u001b[0;32m   2588\u001b[0m     storage_options\u001b[38;5;241m=\u001b[39mstorage_options,\n\u001b[0;32m   2589\u001b[0m )\n\u001b[0;32m   2591\u001b[0m \u001b[38;5;66;03m# Build dataset for splits\u001b[39;00m\n\u001b[0;32m   2592\u001b[0m keep_in_memory \u001b[38;5;241m=\u001b[39m (\n\u001b[0;32m   2593\u001b[0m     keep_in_memory \u001b[38;5;28;01mif\u001b[39;00m keep_in_memory \u001b[38;5;129;01mis\u001b[39;00m \u001b[38;5;129;01mnot\u001b[39;00m \u001b[38;5;28;01mNone\u001b[39;00m \u001b[38;5;28;01melse\u001b[39;00m is_small_dataset(builder_instance\u001b[38;5;241m.\u001b[39minfo\u001b[38;5;241m.\u001b[39mdataset_size)\n\u001b[0;32m   2594\u001b[0m )\n",
      "File \u001b[1;32mc:\\anaconda3\\Lib\\site-packages\\datasets\\builder.py:1005\u001b[0m, in \u001b[0;36mDatasetBuilder.download_and_prepare\u001b[1;34m(self, output_dir, download_config, download_mode, verification_mode, ignore_verifications, try_from_hf_gcs, dl_manager, base_path, use_auth_token, file_format, max_shard_size, num_proc, storage_options, **download_and_prepare_kwargs)\u001b[0m\n\u001b[0;32m   1003\u001b[0m     \u001b[38;5;28;01mif\u001b[39;00m num_proc \u001b[38;5;129;01mis\u001b[39;00m \u001b[38;5;129;01mnot\u001b[39;00m \u001b[38;5;28;01mNone\u001b[39;00m:\n\u001b[0;32m   1004\u001b[0m         prepare_split_kwargs[\u001b[38;5;124m\"\u001b[39m\u001b[38;5;124mnum_proc\u001b[39m\u001b[38;5;124m\"\u001b[39m] \u001b[38;5;241m=\u001b[39m num_proc\n\u001b[1;32m-> 1005\u001b[0m     \u001b[38;5;28mself\u001b[39m\u001b[38;5;241m.\u001b[39m_download_and_prepare(\n\u001b[0;32m   1006\u001b[0m         dl_manager\u001b[38;5;241m=\u001b[39mdl_manager,\n\u001b[0;32m   1007\u001b[0m         verification_mode\u001b[38;5;241m=\u001b[39mverification_mode,\n\u001b[0;32m   1008\u001b[0m         \u001b[38;5;241m*\u001b[39m\u001b[38;5;241m*\u001b[39mprepare_split_kwargs,\n\u001b[0;32m   1009\u001b[0m         \u001b[38;5;241m*\u001b[39m\u001b[38;5;241m*\u001b[39mdownload_and_prepare_kwargs,\n\u001b[0;32m   1010\u001b[0m     )\n\u001b[0;32m   1011\u001b[0m \u001b[38;5;66;03m# Sync info\u001b[39;00m\n\u001b[0;32m   1012\u001b[0m \u001b[38;5;28mself\u001b[39m\u001b[38;5;241m.\u001b[39minfo\u001b[38;5;241m.\u001b[39mdataset_size \u001b[38;5;241m=\u001b[39m \u001b[38;5;28msum\u001b[39m(split\u001b[38;5;241m.\u001b[39mnum_bytes \u001b[38;5;28;01mfor\u001b[39;00m split \u001b[38;5;129;01min\u001b[39;00m \u001b[38;5;28mself\u001b[39m\u001b[38;5;241m.\u001b[39minfo\u001b[38;5;241m.\u001b[39msplits\u001b[38;5;241m.\u001b[39mvalues())\n",
      "File \u001b[1;32mc:\\anaconda3\\Lib\\site-packages\\datasets\\builder.py:1100\u001b[0m, in \u001b[0;36mDatasetBuilder._download_and_prepare\u001b[1;34m(self, dl_manager, verification_mode, **prepare_split_kwargs)\u001b[0m\n\u001b[0;32m   1096\u001b[0m split_dict\u001b[38;5;241m.\u001b[39madd(split_generator\u001b[38;5;241m.\u001b[39msplit_info)\n\u001b[0;32m   1098\u001b[0m \u001b[38;5;28;01mtry\u001b[39;00m:\n\u001b[0;32m   1099\u001b[0m     \u001b[38;5;66;03m# Prepare split will record examples associated to the split\u001b[39;00m\n\u001b[1;32m-> 1100\u001b[0m     \u001b[38;5;28mself\u001b[39m\u001b[38;5;241m.\u001b[39m_prepare_split(split_generator, \u001b[38;5;241m*\u001b[39m\u001b[38;5;241m*\u001b[39mprepare_split_kwargs)\n\u001b[0;32m   1101\u001b[0m \u001b[38;5;28;01mexcept\u001b[39;00m \u001b[38;5;167;01mOSError\u001b[39;00m \u001b[38;5;28;01mas\u001b[39;00m e:\n\u001b[0;32m   1102\u001b[0m     \u001b[38;5;28;01mraise\u001b[39;00m \u001b[38;5;167;01mOSError\u001b[39;00m(\n\u001b[0;32m   1103\u001b[0m         \u001b[38;5;124m\"\u001b[39m\u001b[38;5;124mCannot find data file. \u001b[39m\u001b[38;5;124m\"\u001b[39m\n\u001b[0;32m   1104\u001b[0m         \u001b[38;5;241m+\u001b[39m (\u001b[38;5;28mself\u001b[39m\u001b[38;5;241m.\u001b[39mmanual_download_instructions \u001b[38;5;129;01mor\u001b[39;00m \u001b[38;5;124m\"\u001b[39m\u001b[38;5;124m\"\u001b[39m)\n\u001b[0;32m   1105\u001b[0m         \u001b[38;5;241m+\u001b[39m \u001b[38;5;124m\"\u001b[39m\u001b[38;5;130;01m\\n\u001b[39;00m\u001b[38;5;124mOriginal error:\u001b[39m\u001b[38;5;130;01m\\n\u001b[39;00m\u001b[38;5;124m\"\u001b[39m\n\u001b[0;32m   1106\u001b[0m         \u001b[38;5;241m+\u001b[39m \u001b[38;5;28mstr\u001b[39m(e)\n\u001b[0;32m   1107\u001b[0m     ) \u001b[38;5;28;01mfrom\u001b[39;00m \u001b[38;5;28;01mNone\u001b[39;00m\n",
      "File \u001b[1;32mc:\\anaconda3\\Lib\\site-packages\\datasets\\builder.py:1860\u001b[0m, in \u001b[0;36mArrowBasedBuilder._prepare_split\u001b[1;34m(self, split_generator, file_format, num_proc, max_shard_size)\u001b[0m\n\u001b[0;32m   1858\u001b[0m job_id \u001b[38;5;241m=\u001b[39m \u001b[38;5;241m0\u001b[39m\n\u001b[0;32m   1859\u001b[0m \u001b[38;5;28;01mwith\u001b[39;00m pbar:\n\u001b[1;32m-> 1860\u001b[0m     \u001b[38;5;28;01mfor\u001b[39;00m job_id, done, content \u001b[38;5;129;01min\u001b[39;00m \u001b[38;5;28mself\u001b[39m\u001b[38;5;241m.\u001b[39m_prepare_split_single(\n\u001b[0;32m   1861\u001b[0m         gen_kwargs\u001b[38;5;241m=\u001b[39mgen_kwargs, job_id\u001b[38;5;241m=\u001b[39mjob_id, \u001b[38;5;241m*\u001b[39m\u001b[38;5;241m*\u001b[39m_prepare_split_args\n\u001b[0;32m   1862\u001b[0m     ):\n\u001b[0;32m   1863\u001b[0m         \u001b[38;5;28;01mif\u001b[39;00m done:\n\u001b[0;32m   1864\u001b[0m             result \u001b[38;5;241m=\u001b[39m content\n",
      "File \u001b[1;32mc:\\anaconda3\\Lib\\site-packages\\datasets\\builder.py:2016\u001b[0m, in \u001b[0;36mArrowBasedBuilder._prepare_split_single\u001b[1;34m(self, gen_kwargs, fpath, file_format, max_shard_size, job_id)\u001b[0m\n\u001b[0;32m   2014\u001b[0m     \u001b[38;5;28;01mif\u001b[39;00m \u001b[38;5;28misinstance\u001b[39m(e, DatasetGenerationError):\n\u001b[0;32m   2015\u001b[0m         \u001b[38;5;28;01mraise\u001b[39;00m\n\u001b[1;32m-> 2016\u001b[0m     \u001b[38;5;28;01mraise\u001b[39;00m DatasetGenerationError(\u001b[38;5;124m\"\u001b[39m\u001b[38;5;124mAn error occurred while generating the dataset\u001b[39m\u001b[38;5;124m\"\u001b[39m) \u001b[38;5;28;01mfrom\u001b[39;00m \u001b[38;5;21;01me\u001b[39;00m\n\u001b[0;32m   2018\u001b[0m \u001b[38;5;28;01myield\u001b[39;00m job_id, \u001b[38;5;28;01mTrue\u001b[39;00m, (total_num_examples, total_num_bytes, writer\u001b[38;5;241m.\u001b[39m_features, num_shards, shard_lengths)\n",
      "\u001b[1;31mDatasetGenerationError\u001b[0m: An error occurred while generating the dataset"
     ]
    }
   ],
   "source": [
    "emotions_local = load_dataset('csv', data_files='train.txt', sep=';', names=['text', 'label'])\n",
    "emotions_local"
   ]
  },
  {
   "cell_type": "code",
   "execution_count": 29,
   "metadata": {},
   "outputs": [
    {
     "data": {
      "application/vnd.jupyter.widget-view+json": {
       "model_id": "4caa7d35d9d5442dbc04cf717c1ce1bf",
       "version_major": 2,
       "version_minor": 0
      },
      "text/plain": [
       "Generating train split: 0 examples [00:00, ? examples/s]"
      ]
     },
     "metadata": {},
     "output_type": "display_data"
    },
    {
     "ename": "DatasetGenerationError",
     "evalue": "An error occurred while generating the dataset",
     "output_type": "error",
     "traceback": [
      "\u001b[1;31m---------------------------------------------------------------------------\u001b[0m",
      "\u001b[1;31mSchemaInferenceError\u001b[0m                      Traceback (most recent call last)",
      "File \u001b[1;32mc:\\anaconda3\\Lib\\site-packages\\datasets\\builder.py:2005\u001b[0m, in \u001b[0;36mArrowBasedBuilder._prepare_split_single\u001b[1;34m(self, gen_kwargs, fpath, file_format, max_shard_size, job_id)\u001b[0m\n\u001b[0;32m   2004\u001b[0m num_shards \u001b[38;5;241m=\u001b[39m shard_id \u001b[38;5;241m+\u001b[39m \u001b[38;5;241m1\u001b[39m\n\u001b[1;32m-> 2005\u001b[0m num_examples, num_bytes \u001b[38;5;241m=\u001b[39m writer\u001b[38;5;241m.\u001b[39mfinalize()\n\u001b[0;32m   2006\u001b[0m writer\u001b[38;5;241m.\u001b[39mclose()\n",
      "File \u001b[1;32mc:\\anaconda3\\Lib\\site-packages\\datasets\\arrow_writer.py:610\u001b[0m, in \u001b[0;36mArrowWriter.finalize\u001b[1;34m(self, close_stream)\u001b[0m\n\u001b[0;32m    609\u001b[0m         \u001b[38;5;28mself\u001b[39m\u001b[38;5;241m.\u001b[39mstream\u001b[38;5;241m.\u001b[39mclose()\n\u001b[1;32m--> 610\u001b[0m     \u001b[38;5;28;01mraise\u001b[39;00m SchemaInferenceError(\u001b[38;5;124m\"\u001b[39m\u001b[38;5;124mPlease pass `features` or at least one example when writing data\u001b[39m\u001b[38;5;124m\"\u001b[39m)\n\u001b[0;32m    611\u001b[0m logger\u001b[38;5;241m.\u001b[39mdebug(\n\u001b[0;32m    612\u001b[0m     \u001b[38;5;124mf\u001b[39m\u001b[38;5;124m\"\u001b[39m\u001b[38;5;124mDone writing \u001b[39m\u001b[38;5;132;01m{\u001b[39;00m\u001b[38;5;28mself\u001b[39m\u001b[38;5;241m.\u001b[39m_num_examples\u001b[38;5;132;01m}\u001b[39;00m\u001b[38;5;124m \u001b[39m\u001b[38;5;132;01m{\u001b[39;00m\u001b[38;5;28mself\u001b[39m\u001b[38;5;241m.\u001b[39munit\u001b[38;5;132;01m}\u001b[39;00m\u001b[38;5;124m in \u001b[39m\u001b[38;5;132;01m{\u001b[39;00m\u001b[38;5;28mself\u001b[39m\u001b[38;5;241m.\u001b[39m_num_bytes\u001b[38;5;132;01m}\u001b[39;00m\u001b[38;5;124m bytes \u001b[39m\u001b[38;5;132;01m{\u001b[39;00m\u001b[38;5;28mself\u001b[39m\u001b[38;5;241m.\u001b[39m_path\u001b[38;5;250m \u001b[39m\u001b[38;5;28;01mif\u001b[39;00m\u001b[38;5;250m \u001b[39m\u001b[38;5;28mself\u001b[39m\u001b[38;5;241m.\u001b[39m_path\u001b[38;5;250m \u001b[39m\u001b[38;5;28;01melse\u001b[39;00m\u001b[38;5;250m \u001b[39m\u001b[38;5;124m'\u001b[39m\u001b[38;5;124m'\u001b[39m\u001b[38;5;132;01m}\u001b[39;00m\u001b[38;5;124m.\u001b[39m\u001b[38;5;124m\"\u001b[39m\n\u001b[0;32m    613\u001b[0m )\n",
      "\u001b[1;31mSchemaInferenceError\u001b[0m: Please pass `features` or at least one example when writing data",
      "\nThe above exception was the direct cause of the following exception:\n",
      "\u001b[1;31mDatasetGenerationError\u001b[0m                    Traceback (most recent call last)",
      "Cell \u001b[1;32mIn[29], line 2\u001b[0m\n\u001b[0;32m      1\u001b[0m dataset_url \u001b[38;5;241m=\u001b[39m \u001b[38;5;124m'\u001b[39m\u001b[38;5;124mhttps://www.dropbox.com/s/1pzkadrvffbqw6o/train.txt?dl=1\u001b[39m\u001b[38;5;124m'\u001b[39m\n\u001b[1;32m----> 2\u001b[0m emotions_remote \u001b[38;5;241m=\u001b[39m load_dataset(\u001b[38;5;124m'\u001b[39m\u001b[38;5;124mcsv\u001b[39m\u001b[38;5;124m'\u001b[39m, data_files\u001b[38;5;241m=\u001b[39mdataset_url, sep\u001b[38;5;241m=\u001b[39m\u001b[38;5;124m'\u001b[39m\u001b[38;5;124m;\u001b[39m\u001b[38;5;124m'\u001b[39m, names\u001b[38;5;241m=\u001b[39m[\u001b[38;5;124m'\u001b[39m\u001b[38;5;124mtext\u001b[39m\u001b[38;5;124m'\u001b[39m, \u001b[38;5;124m'\u001b[39m\u001b[38;5;124mlabel\u001b[39m\u001b[38;5;124m'\u001b[39m])\n\u001b[0;32m      3\u001b[0m emotions_remote\n",
      "File \u001b[1;32mc:\\anaconda3\\Lib\\site-packages\\datasets\\load.py:2582\u001b[0m, in \u001b[0;36mload_dataset\u001b[1;34m(path, name, data_dir, data_files, split, cache_dir, features, download_config, download_mode, verification_mode, ignore_verifications, keep_in_memory, save_infos, revision, token, use_auth_token, task, streaming, num_proc, storage_options, trust_remote_code, **config_kwargs)\u001b[0m\n\u001b[0;32m   2579\u001b[0m try_from_hf_gcs \u001b[38;5;241m=\u001b[39m path \u001b[38;5;129;01mnot\u001b[39;00m \u001b[38;5;129;01min\u001b[39;00m _PACKAGED_DATASETS_MODULES\n\u001b[0;32m   2581\u001b[0m \u001b[38;5;66;03m# Download and prepare data\u001b[39;00m\n\u001b[1;32m-> 2582\u001b[0m builder_instance\u001b[38;5;241m.\u001b[39mdownload_and_prepare(\n\u001b[0;32m   2583\u001b[0m     download_config\u001b[38;5;241m=\u001b[39mdownload_config,\n\u001b[0;32m   2584\u001b[0m     download_mode\u001b[38;5;241m=\u001b[39mdownload_mode,\n\u001b[0;32m   2585\u001b[0m     verification_mode\u001b[38;5;241m=\u001b[39mverification_mode,\n\u001b[0;32m   2586\u001b[0m     try_from_hf_gcs\u001b[38;5;241m=\u001b[39mtry_from_hf_gcs,\n\u001b[0;32m   2587\u001b[0m     num_proc\u001b[38;5;241m=\u001b[39mnum_proc,\n\u001b[0;32m   2588\u001b[0m     storage_options\u001b[38;5;241m=\u001b[39mstorage_options,\n\u001b[0;32m   2589\u001b[0m )\n\u001b[0;32m   2591\u001b[0m \u001b[38;5;66;03m# Build dataset for splits\u001b[39;00m\n\u001b[0;32m   2592\u001b[0m keep_in_memory \u001b[38;5;241m=\u001b[39m (\n\u001b[0;32m   2593\u001b[0m     keep_in_memory \u001b[38;5;28;01mif\u001b[39;00m keep_in_memory \u001b[38;5;129;01mis\u001b[39;00m \u001b[38;5;129;01mnot\u001b[39;00m \u001b[38;5;28;01mNone\u001b[39;00m \u001b[38;5;28;01melse\u001b[39;00m is_small_dataset(builder_instance\u001b[38;5;241m.\u001b[39minfo\u001b[38;5;241m.\u001b[39mdataset_size)\n\u001b[0;32m   2594\u001b[0m )\n",
      "File \u001b[1;32mc:\\anaconda3\\Lib\\site-packages\\datasets\\builder.py:1005\u001b[0m, in \u001b[0;36mDatasetBuilder.download_and_prepare\u001b[1;34m(self, output_dir, download_config, download_mode, verification_mode, ignore_verifications, try_from_hf_gcs, dl_manager, base_path, use_auth_token, file_format, max_shard_size, num_proc, storage_options, **download_and_prepare_kwargs)\u001b[0m\n\u001b[0;32m   1003\u001b[0m     \u001b[38;5;28;01mif\u001b[39;00m num_proc \u001b[38;5;129;01mis\u001b[39;00m \u001b[38;5;129;01mnot\u001b[39;00m \u001b[38;5;28;01mNone\u001b[39;00m:\n\u001b[0;32m   1004\u001b[0m         prepare_split_kwargs[\u001b[38;5;124m\"\u001b[39m\u001b[38;5;124mnum_proc\u001b[39m\u001b[38;5;124m\"\u001b[39m] \u001b[38;5;241m=\u001b[39m num_proc\n\u001b[1;32m-> 1005\u001b[0m     \u001b[38;5;28mself\u001b[39m\u001b[38;5;241m.\u001b[39m_download_and_prepare(\n\u001b[0;32m   1006\u001b[0m         dl_manager\u001b[38;5;241m=\u001b[39mdl_manager,\n\u001b[0;32m   1007\u001b[0m         verification_mode\u001b[38;5;241m=\u001b[39mverification_mode,\n\u001b[0;32m   1008\u001b[0m         \u001b[38;5;241m*\u001b[39m\u001b[38;5;241m*\u001b[39mprepare_split_kwargs,\n\u001b[0;32m   1009\u001b[0m         \u001b[38;5;241m*\u001b[39m\u001b[38;5;241m*\u001b[39mdownload_and_prepare_kwargs,\n\u001b[0;32m   1010\u001b[0m     )\n\u001b[0;32m   1011\u001b[0m \u001b[38;5;66;03m# Sync info\u001b[39;00m\n\u001b[0;32m   1012\u001b[0m \u001b[38;5;28mself\u001b[39m\u001b[38;5;241m.\u001b[39minfo\u001b[38;5;241m.\u001b[39mdataset_size \u001b[38;5;241m=\u001b[39m \u001b[38;5;28msum\u001b[39m(split\u001b[38;5;241m.\u001b[39mnum_bytes \u001b[38;5;28;01mfor\u001b[39;00m split \u001b[38;5;129;01min\u001b[39;00m \u001b[38;5;28mself\u001b[39m\u001b[38;5;241m.\u001b[39minfo\u001b[38;5;241m.\u001b[39msplits\u001b[38;5;241m.\u001b[39mvalues())\n",
      "File \u001b[1;32mc:\\anaconda3\\Lib\\site-packages\\datasets\\builder.py:1100\u001b[0m, in \u001b[0;36mDatasetBuilder._download_and_prepare\u001b[1;34m(self, dl_manager, verification_mode, **prepare_split_kwargs)\u001b[0m\n\u001b[0;32m   1096\u001b[0m split_dict\u001b[38;5;241m.\u001b[39madd(split_generator\u001b[38;5;241m.\u001b[39msplit_info)\n\u001b[0;32m   1098\u001b[0m \u001b[38;5;28;01mtry\u001b[39;00m:\n\u001b[0;32m   1099\u001b[0m     \u001b[38;5;66;03m# Prepare split will record examples associated to the split\u001b[39;00m\n\u001b[1;32m-> 1100\u001b[0m     \u001b[38;5;28mself\u001b[39m\u001b[38;5;241m.\u001b[39m_prepare_split(split_generator, \u001b[38;5;241m*\u001b[39m\u001b[38;5;241m*\u001b[39mprepare_split_kwargs)\n\u001b[0;32m   1101\u001b[0m \u001b[38;5;28;01mexcept\u001b[39;00m \u001b[38;5;167;01mOSError\u001b[39;00m \u001b[38;5;28;01mas\u001b[39;00m e:\n\u001b[0;32m   1102\u001b[0m     \u001b[38;5;28;01mraise\u001b[39;00m \u001b[38;5;167;01mOSError\u001b[39;00m(\n\u001b[0;32m   1103\u001b[0m         \u001b[38;5;124m\"\u001b[39m\u001b[38;5;124mCannot find data file. \u001b[39m\u001b[38;5;124m\"\u001b[39m\n\u001b[0;32m   1104\u001b[0m         \u001b[38;5;241m+\u001b[39m (\u001b[38;5;28mself\u001b[39m\u001b[38;5;241m.\u001b[39mmanual_download_instructions \u001b[38;5;129;01mor\u001b[39;00m \u001b[38;5;124m\"\u001b[39m\u001b[38;5;124m\"\u001b[39m)\n\u001b[0;32m   1105\u001b[0m         \u001b[38;5;241m+\u001b[39m \u001b[38;5;124m\"\u001b[39m\u001b[38;5;130;01m\\n\u001b[39;00m\u001b[38;5;124mOriginal error:\u001b[39m\u001b[38;5;130;01m\\n\u001b[39;00m\u001b[38;5;124m\"\u001b[39m\n\u001b[0;32m   1106\u001b[0m         \u001b[38;5;241m+\u001b[39m \u001b[38;5;28mstr\u001b[39m(e)\n\u001b[0;32m   1107\u001b[0m     ) \u001b[38;5;28;01mfrom\u001b[39;00m \u001b[38;5;28;01mNone\u001b[39;00m\n",
      "File \u001b[1;32mc:\\anaconda3\\Lib\\site-packages\\datasets\\builder.py:1860\u001b[0m, in \u001b[0;36mArrowBasedBuilder._prepare_split\u001b[1;34m(self, split_generator, file_format, num_proc, max_shard_size)\u001b[0m\n\u001b[0;32m   1858\u001b[0m job_id \u001b[38;5;241m=\u001b[39m \u001b[38;5;241m0\u001b[39m\n\u001b[0;32m   1859\u001b[0m \u001b[38;5;28;01mwith\u001b[39;00m pbar:\n\u001b[1;32m-> 1860\u001b[0m     \u001b[38;5;28;01mfor\u001b[39;00m job_id, done, content \u001b[38;5;129;01min\u001b[39;00m \u001b[38;5;28mself\u001b[39m\u001b[38;5;241m.\u001b[39m_prepare_split_single(\n\u001b[0;32m   1861\u001b[0m         gen_kwargs\u001b[38;5;241m=\u001b[39mgen_kwargs, job_id\u001b[38;5;241m=\u001b[39mjob_id, \u001b[38;5;241m*\u001b[39m\u001b[38;5;241m*\u001b[39m_prepare_split_args\n\u001b[0;32m   1862\u001b[0m     ):\n\u001b[0;32m   1863\u001b[0m         \u001b[38;5;28;01mif\u001b[39;00m done:\n\u001b[0;32m   1864\u001b[0m             result \u001b[38;5;241m=\u001b[39m content\n",
      "File \u001b[1;32mc:\\anaconda3\\Lib\\site-packages\\datasets\\builder.py:2016\u001b[0m, in \u001b[0;36mArrowBasedBuilder._prepare_split_single\u001b[1;34m(self, gen_kwargs, fpath, file_format, max_shard_size, job_id)\u001b[0m\n\u001b[0;32m   2014\u001b[0m     \u001b[38;5;28;01mif\u001b[39;00m \u001b[38;5;28misinstance\u001b[39m(e, DatasetGenerationError):\n\u001b[0;32m   2015\u001b[0m         \u001b[38;5;28;01mraise\u001b[39;00m\n\u001b[1;32m-> 2016\u001b[0m     \u001b[38;5;28;01mraise\u001b[39;00m DatasetGenerationError(\u001b[38;5;124m\"\u001b[39m\u001b[38;5;124mAn error occurred while generating the dataset\u001b[39m\u001b[38;5;124m\"\u001b[39m) \u001b[38;5;28;01mfrom\u001b[39;00m \u001b[38;5;21;01me\u001b[39;00m\n\u001b[0;32m   2018\u001b[0m \u001b[38;5;28;01myield\u001b[39;00m job_id, \u001b[38;5;28;01mTrue\u001b[39;00m, (total_num_examples, total_num_bytes, writer\u001b[38;5;241m.\u001b[39m_features, num_shards, shard_lengths)\n",
      "\u001b[1;31mDatasetGenerationError\u001b[0m: An error occurred while generating the dataset"
     ]
    }
   ],
   "source": [
    "dataset_url = 'https://www.dropbox.com/s/1pzkadrvffbqw6o/train.txt?dl=1'\n",
    "emotions_remote = load_dataset('csv', data_files=dataset_url, sep=';', names=['text', 'label'])\n",
    "emotions_remote"
   ]
  },
  {
   "cell_type": "markdown",
   "metadata": {},
   "source": [
    "## From Datasets to DataFrames"
   ]
  },
  {
   "cell_type": "code",
   "execution_count": 30,
   "metadata": {},
   "outputs": [
    {
     "data": {
      "text/html": [
       "<div>\n",
       "<style scoped>\n",
       "    .dataframe tbody tr th:only-of-type {\n",
       "        vertical-align: middle;\n",
       "    }\n",
       "\n",
       "    .dataframe tbody tr th {\n",
       "        vertical-align: top;\n",
       "    }\n",
       "\n",
       "    .dataframe thead th {\n",
       "        text-align: right;\n",
       "    }\n",
       "</style>\n",
       "<table border=\"1\" class=\"dataframe\">\n",
       "  <thead>\n",
       "    <tr style=\"text-align: right;\">\n",
       "      <th></th>\n",
       "      <th>text</th>\n",
       "      <th>label</th>\n",
       "    </tr>\n",
       "  </thead>\n",
       "  <tbody>\n",
       "    <tr>\n",
       "      <th>0</th>\n",
       "      <td>i didnt feel humiliated</td>\n",
       "      <td>0</td>\n",
       "    </tr>\n",
       "    <tr>\n",
       "      <th>1</th>\n",
       "      <td>i can go from feeling so hopeless to so damned...</td>\n",
       "      <td>0</td>\n",
       "    </tr>\n",
       "    <tr>\n",
       "      <th>2</th>\n",
       "      <td>im grabbing a minute to post i feel greedy wrong</td>\n",
       "      <td>3</td>\n",
       "    </tr>\n",
       "    <tr>\n",
       "      <th>3</th>\n",
       "      <td>i am ever feeling nostalgic about the fireplac...</td>\n",
       "      <td>2</td>\n",
       "    </tr>\n",
       "    <tr>\n",
       "      <th>4</th>\n",
       "      <td>i am feeling grouchy</td>\n",
       "      <td>3</td>\n",
       "    </tr>\n",
       "  </tbody>\n",
       "</table>\n",
       "</div>"
      ],
      "text/plain": [
       "                                                text  label\n",
       "0                            i didnt feel humiliated      0\n",
       "1  i can go from feeling so hopeless to so damned...      0\n",
       "2   im grabbing a minute to post i feel greedy wrong      3\n",
       "3  i am ever feeling nostalgic about the fireplac...      2\n",
       "4                               i am feeling grouchy      3"
      ]
     },
     "execution_count": 30,
     "metadata": {},
     "output_type": "execute_result"
    }
   ],
   "source": [
    "emotion.set_format(type='pandas')\n",
    "df = emotion['train'][:]\n",
    "df.head()"
   ]
  },
  {
   "cell_type": "code",
   "execution_count": 31,
   "metadata": {},
   "outputs": [],
   "source": [
    "def label_int2str(row):\n",
    "    return emotion['train'].features['label'].int2str(row)"
   ]
  },
  {
   "cell_type": "code",
   "execution_count": 32,
   "metadata": {},
   "outputs": [
    {
     "data": {
      "text/html": [
       "<div>\n",
       "<style scoped>\n",
       "    .dataframe tbody tr th:only-of-type {\n",
       "        vertical-align: middle;\n",
       "    }\n",
       "\n",
       "    .dataframe tbody tr th {\n",
       "        vertical-align: top;\n",
       "    }\n",
       "\n",
       "    .dataframe thead th {\n",
       "        text-align: right;\n",
       "    }\n",
       "</style>\n",
       "<table border=\"1\" class=\"dataframe\">\n",
       "  <thead>\n",
       "    <tr style=\"text-align: right;\">\n",
       "      <th></th>\n",
       "      <th>text</th>\n",
       "      <th>label</th>\n",
       "      <th>label_name</th>\n",
       "    </tr>\n",
       "  </thead>\n",
       "  <tbody>\n",
       "    <tr>\n",
       "      <th>0</th>\n",
       "      <td>i didnt feel humiliated</td>\n",
       "      <td>0</td>\n",
       "      <td>sadness</td>\n",
       "    </tr>\n",
       "    <tr>\n",
       "      <th>1</th>\n",
       "      <td>i can go from feeling so hopeless to so damned...</td>\n",
       "      <td>0</td>\n",
       "      <td>sadness</td>\n",
       "    </tr>\n",
       "    <tr>\n",
       "      <th>2</th>\n",
       "      <td>im grabbing a minute to post i feel greedy wrong</td>\n",
       "      <td>3</td>\n",
       "      <td>anger</td>\n",
       "    </tr>\n",
       "    <tr>\n",
       "      <th>3</th>\n",
       "      <td>i am ever feeling nostalgic about the fireplac...</td>\n",
       "      <td>2</td>\n",
       "      <td>love</td>\n",
       "    </tr>\n",
       "    <tr>\n",
       "      <th>4</th>\n",
       "      <td>i am feeling grouchy</td>\n",
       "      <td>3</td>\n",
       "      <td>anger</td>\n",
       "    </tr>\n",
       "  </tbody>\n",
       "</table>\n",
       "</div>"
      ],
      "text/plain": [
       "                                                text  label label_name\n",
       "0                            i didnt feel humiliated      0    sadness\n",
       "1  i can go from feeling so hopeless to so damned...      0    sadness\n",
       "2   im grabbing a minute to post i feel greedy wrong      3      anger\n",
       "3  i am ever feeling nostalgic about the fireplac...      2       love\n",
       "4                               i am feeling grouchy      3      anger"
      ]
     },
     "execution_count": 32,
     "metadata": {},
     "output_type": "execute_result"
    }
   ],
   "source": [
    "df['label_name'] = df['label'].apply(label_int2str)\n",
    "df.head()"
   ]
  },
  {
   "cell_type": "markdown",
   "metadata": {},
   "source": [
    "## Looking at Class Distribution"
   ]
  },
  {
   "cell_type": "markdown",
   "metadata": {},
   "source": [
    "A dataset with a skewed class distribution might require a different treatment in terms of the training loss and evaluation metrics than a balanced one."
   ]
  },
  {
   "cell_type": "code",
   "execution_count": 34,
   "metadata": {},
   "outputs": [
    {
     "data": {
      "image/png": "[encoded data removed]",
      "text/plain": [
       "<Figure size 640x480 with 1 Axes>"
      ]
     },
     "metadata": {},
     "output_type": "display_data"
    }
   ],
   "source": [
    "df['label_name'].value_counts(ascending=True).plot.barh()\n",
    "plt.title('Frequency of Classes')\n",
    "plt.show()"
   ]
  },
  {
   "cell_type": "markdown",
   "metadata": {},
   "source": [
    "Class imbalance problem like above can be handled using a library such as Imbalanced-learn."
   ]
  },
  {
   "cell_type": "markdown",
   "metadata": {},
   "source": [
    "### How long are our Tweets?"
   ]
  },
  {
   "cell_type": "code",
   "execution_count": 37,
   "metadata": {},
   "outputs": [
    {
     "data": {
      "image/png": "[encoded data removed]",
      "text/plain": [
       "<Figure size 640x480 with 1 Axes>"
      ]
     },
     "metadata": {},
     "output_type": "display_data"
    }
   ],
   "source": [
    "df['Words Per Tweet'] = df['text'].str.split().apply(len)\n",
    "df.boxplot('Words Per Tweet', by='label_name', grid=False, showfliers=False, color='black')\n",
    "plt.suptitle('')\n",
    "plt.xlabel('')\n",
    "plt.show()"
   ]
  },
  {
   "cell_type": "code",
   "execution_count": 38,
   "metadata": {},
   "outputs": [
    {
     "data": {
      "text/plain": [
       "DatasetDict({\n",
       "    train: Dataset({\n",
       "        features: ['text', 'label'],\n",
       "        num_rows: 16000\n",
       "    })\n",
       "    validation: Dataset({\n",
       "        features: ['text', 'label'],\n",
       "        num_rows: 2000\n",
       "    })\n",
       "    test: Dataset({\n",
       "        features: ['text', 'label'],\n",
       "        num_rows: 2000\n",
       "    })\n",
       "})"
      ]
     },
     "execution_count": 38,
     "metadata": {},
     "output_type": "execute_result"
    }
   ],
   "source": [
    "emotion.reset_format()\n",
    "emotion"
   ]
  },
  {
   "cell_type": "markdown",
   "metadata": {},
   "source": [
    "### From Text to Tokens"
   ]
  },
  {
   "cell_type": "markdown",
   "metadata": {},
   "source": [
    "Transformers models like ``DistilBERT`` that we are going to use, cannot receive raw string as input; instead they assume the text has been tokenized and encoded as numerical vectors.\n",
    "\n",
    "**Tokenization** is the step of breaking down a string into the atomic units used in the model. There are several tokenization strategies one can adopt, and the optimal splitting of words into subunits is usually learned from the corpus. Before looking at tokenizers used for DistilBERT, let's consider two extreme cases: character and word tokenization."
   ]
  },
  {
   "cell_type": "code",
   "execution_count": null,
   "metadata": {},
   "outputs": [],
   "source": []
  }
 ],
 "metadata": {
  "kernelspec": {
   "display_name": "Python 3 (ipykernel)",
   "language": "python",
   "name": "python3"
  },
  "language_info": {
   "codemirror_mode": {
    "name": "ipython",
    "version": 3
   },
   "file_extension": ".py",
   "mimetype": "text/x-python",
   "name": "python",
   "nbconvert_exporter": "python",
   "pygments_lexer": "ipython3",
   "version": "3.11.8"
  }
 },
 "nbformat": 4,
 "nbformat_minor": 4
}
