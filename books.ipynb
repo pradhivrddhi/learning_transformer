{
 "cells": [
  {
   "cell_type": "code",
   "execution_count": 1,
   "metadata": {},
   "outputs": [],
   "source": [
    "from datasets import load_dataset"
   ]
  },
  {
   "cell_type": "code",
   "execution_count": 2,
   "metadata": {},
   "outputs": [
    {
     "data": {
      "text/plain": [
       "DatasetDict({\n",
       "    train: Dataset({\n",
       "        features: ['text'],\n",
       "        num_rows: 741\n",
       "    })\n",
       "})"
      ]
     },
     "execution_count": 2,
     "metadata": {},
     "output_type": "execute_result"
    }
   ],
   "source": [
    "data = load_dataset('AlekseyKorshuk/books')\n",
    "data"
   ]
  },
  {
   "cell_type": "code",
   "execution_count": 3,
   "metadata": {},
   "outputs": [
    {
     "data": {
      "text/plain": [
       "Dataset({\n",
       "    features: ['text'],\n",
       "    num_rows: 741\n",
       "})"
      ]
     },
     "execution_count": 3,
     "metadata": {},
     "output_type": "execute_result"
    }
   ],
   "source": [
    "data['train']"
   ]
  },
  {
   "cell_type": "code",
   "execution_count": 4,
   "metadata": {},
   "outputs": [],
   "source": [
    "import pandas as pd"
   ]
  },
  {
   "cell_type": "code",
   "execution_count": 5,
   "metadata": {},
   "outputs": [
    {
     "data": {
      "text/html": [
       "<div>\n",
       "<style scoped>\n",
       "    .dataframe tbody tr th:only-of-type {\n",
       "        vertical-align: middle;\n",
       "    }\n",
       "\n",
       "    .dataframe tbody tr th {\n",
       "        vertical-align: top;\n",
       "    }\n",
       "\n",
       "    .dataframe thead th {\n",
       "        text-align: right;\n",
       "    }\n",
       "</style>\n",
       "<table border=\"1\" class=\"dataframe\">\n",
       "  <thead>\n",
       "    <tr style=\"text-align: right;\">\n",
       "      <th></th>\n",
       "      <th>text</th>\n",
       "    </tr>\n",
       "  </thead>\n",
       "  <tbody>\n",
       "    <tr>\n",
       "      <th>0</th>\n",
       "      <td>the half-ling book one in the fall of igneeria...</td>\n",
       "    </tr>\n",
       "    <tr>\n",
       "      <th>1</th>\n",
       "      <td>are you going to leave us alone ? joseph deman...</td>\n",
       "    </tr>\n",
       "  </tbody>\n",
       "</table>\n",
       "</div>"
      ],
      "text/plain": [
       "                                                text\n",
       "0  the half-ling book one in the fall of igneeria...\n",
       "1  are you going to leave us alone ? joseph deman..."
      ]
     },
     "execution_count": 5,
     "metadata": {},
     "output_type": "execute_result"
    }
   ],
   "source": [
    "df = pd.DataFrame(data['train'][:2])\n",
    "df"
   ]
  },
  {
   "cell_type": "code",
   "execution_count": 7,
   "metadata": {},
   "outputs": [
    {
     "name": "stdout",
     "output_type": "stream",
     "text": [
      "8083543\n",
      "the half-ling book one in the fall of igneeria series kaylee soderburg copyright 2013 kaylee soderburg all rights reserved . isbn : 1492913731 isbn-13 : 978-1492913733 for my family , who encouraged me to never stop fighting for my dreams chapter 1 summer vacations supposed to be fun , right ? i wish i had a better answer to that question . starlings , new york is not the place youd expect much to happen . its a small quiet town , the kind where everyone knows your name . its a place where your parents wouldnt even care if you stayed out late biking with your friends . only because everyone felt so safe , so comfy . they dont know the half of it . but i do . i know it all and starlings is not the place where you want to be after dark . the only reason why no one knows this is because jason , emily , seth and i have kept it that way . i walked along the empty road alone , occasionally waving to passing kids on bikes . my backpack was slung over my shoulder , filled with my writing books\n",
      "6924287\n",
      "are you going to leave us alone ? joseph demanded , pointing at the pile of bully with a squeak in his voice from the adrenaline . the two bullies meekly nodded . as joseph rode away with sharianna , dan said with a moan : i think hes been taking karate lessons . don rubbed his hand . hes got a hard head . lets keep this to ourselves . wow ! exclaimed sharianna , as they rode down the trail . how did you do that ? adrenaline . you dont think it was the suit ? probably , joseph replied . dan did feel a lot lighter than i expected , when i threw him on top of don . wasnt it don you threw onto dan ? whats the diff ? goons are goons , quipped joseph , as they both laughed . when they approached the lake , joseph turned onto a barely discernable trail that appeared to lead away from the lake , but in reality doubled back to a secluded alcove nestled between some low cliffs . the trail was strewn with rocks , branches and the occasional fallen tree . sharianna could see her front wheel wobbl\n",
      "7204171\n",
      "if i knew a way to do it , what would you say ? tommy asked . go for it ! i lost any feeling for him years ago when he began molesting me and my sister . when she died , he just laughed and blamed it on inferior genes , on his mothers side . the fact that she died of syphilis was silenced with his money . are you saying he killed her with this disease ? tommy asked . she was one of the several that died before the age of twelve that i mentioned . luckily , when the blotching appeared in my palms , a doctor i was seeing noticed it and treated me . otherwise i would be dead , too . so your father molested you , too ? for years . since i was eight years old . still does when im home . thats why i dont go home anymore . where do you live , then ? i live with marty and his wife when im in town . dad sends me money , as a bribe , trying to entice me to come home . i take the money , but i dont go home . i have a trust fund worth several hundred millions . so , i do what i want . mostly i ign\n"
     ]
    }
   ],
   "source": [
    "i = 0\n",
    "for example in data['train']:\n",
    "    if i > 2:\n",
    "        break\n",
    "    i = i + 1\n",
    "    text = example['text']\n",
    "    print(len(text))\n",
    "    print(text[:1000])"
   ]
  },
  {
   "cell_type": "code",
   "execution_count": null,
   "metadata": {},
   "outputs": [],
   "source": []
  },
  {
   "cell_type": "code",
   "execution_count": null,
   "metadata": {},
   "outputs": [],
   "source": []
  }
 ],
 "metadata": {
  "kernelspec": {
   "display_name": "base",
   "language": "python",
   "name": "python3"
  },
  "language_info": {
   "codemirror_mode": {
    "name": "ipython",
    "version": 3
   },
   "file_extension": ".py",
   "mimetype": "text/x-python",
   "name": "python",
   "nbconvert_exporter": "python",
   "pygments_lexer": "ipython3",
   "version": "3.11.8"
  }
 },
 "nbformat": 4,
 "nbformat_minor": 2
}
