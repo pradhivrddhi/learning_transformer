{
 "cells": [
  {
   "cell_type": "code",
   "execution_count": 1,
   "metadata": {},
   "outputs": [],
   "source": [
    "from neural_network.network import Network\n"
   ]
  },
  {
   "cell_type": "code",
   "execution_count": 2,
   "metadata": {},
   "outputs": [],
   "source": [
    "from neural_network.loader import load_data_wrapper"
   ]
  },
  {
   "cell_type": "code",
   "execution_count": 3,
   "metadata": {},
   "outputs": [],
   "source": [
    "training_data, validation_data, test_data = load_data_wrapper()"
   ]
  },
  {
   "cell_type": "code",
   "execution_count": 4,
   "metadata": {},
   "outputs": [],
   "source": [
    "net = Network([784, 28, 7, 7, 28, 10])"
   ]
  },
  {
   "cell_type": "code",
   "execution_count": 5,
   "metadata": {},
   "outputs": [
    {
     "name": "stdout",
     "output_type": "stream",
     "text": [
      "Epoch 0: 8324 / 10000\n",
      "Epoch 1: 8809 / 10000\n",
      "Epoch 2: 8975 / 10000\n",
      "Epoch 3: 9136 / 10000\n",
      "Epoch 4: 9120 / 10000\n",
      "Epoch 5: 9227 / 10000\n",
      "Epoch 6: 9190 / 10000\n",
      "Epoch 7: 9236 / 10000\n",
      "Epoch 8: 9272 / 10000\n",
      "Epoch 9: 9312 / 10000\n",
      "Epoch 10: 9255 / 10000\n",
      "Epoch 11: 9324 / 10000\n",
      "Epoch 12: 9349 / 10000\n",
      "Epoch 13: 9308 / 10000\n",
      "Epoch 14: 9327 / 10000\n",
      "Epoch 15: 9319 / 10000\n",
      "Epoch 16: 9370 / 10000\n",
      "Epoch 17: 9383 / 10000\n",
      "Epoch 18: 9360 / 10000\n",
      "Epoch 19: 9377 / 10000\n",
      "Epoch 20: 9378 / 10000\n",
      "Epoch 21: 9367 / 10000\n",
      "Epoch 22: 9389 / 10000\n",
      "Epoch 23: 9382 / 10000\n",
      "Epoch 24: 9368 / 10000\n",
      "Epoch 25: 9391 / 10000\n",
      "Epoch 26: 9392 / 10000\n",
      "Epoch 27: 9368 / 10000\n",
      "Epoch 28: 9344 / 10000\n",
      "Epoch 29: 9369 / 10000\n",
      "Epoch 30: 9387 / 10000\n",
      "Epoch 31: 9415 / 10000\n",
      "Epoch 32: 9420 / 10000\n",
      "Epoch 33: 9407 / 10000\n",
      "Epoch 34: 9394 / 10000\n",
      "Epoch 35: 9413 / 10000\n",
      "Epoch 36: 9436 / 10000\n",
      "Epoch 37: 9399 / 10000\n",
      "Epoch 38: 9392 / 10000\n",
      "Epoch 39: 9395 / 10000\n",
      "Epoch 40: 9411 / 10000\n",
      "Epoch 41: 9403 / 10000\n",
      "Epoch 42: 9444 / 10000\n",
      "Epoch 43: 9429 / 10000\n",
      "Epoch 44: 9438 / 10000\n",
      "Epoch 45: 9436 / 10000\n",
      "Epoch 46: 9410 / 10000\n",
      "Epoch 47: 9446 / 10000\n",
      "Epoch 48: 9404 / 10000\n",
      "Epoch 49: 9389 / 10000\n",
      "Epoch 50: 9421 / 10000\n",
      "Epoch 51: 9433 / 10000\n",
      "Epoch 52: 9439 / 10000\n",
      "Epoch 53: 9407 / 10000\n",
      "Epoch 54: 9368 / 10000\n",
      "Epoch 55: 9400 / 10000\n",
      "Epoch 56: 9379 / 10000\n",
      "Epoch 57: 9433 / 10000\n",
      "Epoch 58: 9384 / 10000\n",
      "Epoch 59: 9381 / 10000\n",
      "Epoch 60: 9428 / 10000\n",
      "Epoch 61: 9430 / 10000\n",
      "Epoch 62: 9412 / 10000\n",
      "Epoch 63: 9401 / 10000\n",
      "Epoch 64: 9405 / 10000\n",
      "Epoch 65: 9419 / 10000\n",
      "Epoch 66: 9386 / 10000\n",
      "Epoch 67: 9406 / 10000\n",
      "Epoch 68: 9428 / 10000\n",
      "Epoch 69: 9387 / 10000\n",
      "Epoch 70: 9377 / 10000\n",
      "Epoch 71: 9398 / 10000\n",
      "Epoch 72: 9400 / 10000\n",
      "Epoch 73: 9395 / 10000\n",
      "Epoch 74: 9389 / 10000\n",
      "Epoch 75: 9419 / 10000\n",
      "Epoch 76: 9431 / 10000\n",
      "Epoch 77: 9445 / 10000\n",
      "Epoch 78: 9409 / 10000\n",
      "Epoch 79: 9458 / 10000\n",
      "Epoch 80: 9444 / 10000\n",
      "Epoch 81: 9433 / 10000\n",
      "Epoch 82: 9435 / 10000\n",
      "Epoch 83: 9403 / 10000\n",
      "Epoch 84: 9436 / 10000\n",
      "Epoch 85: 9423 / 10000\n",
      "Epoch 86: 9433 / 10000\n",
      "Epoch 87: 9431 / 10000\n",
      "Epoch 88: 9426 / 10000\n",
      "Epoch 89: 9426 / 10000\n",
      "Epoch 90: 9389 / 10000\n",
      "Epoch 91: 9406 / 10000\n",
      "Epoch 92: 9428 / 10000\n",
      "Epoch 93: 9418 / 10000\n",
      "Epoch 94: 9438 / 10000\n",
      "Epoch 95: 9417 / 10000\n",
      "Epoch 96: 9456 / 10000\n",
      "Epoch 97: 9448 / 10000\n",
      "Epoch 98: 9443 / 10000\n",
      "Epoch 99: 9429 / 10000\n"
     ]
    }
   ],
   "source": [
    "net.stochastic_gradient_decent(\n",
    "    training_data=training_data,\n",
    "    epochs=100,\n",
    "    mini_batch_size=25,\n",
    "    eta=3,\n",
    "    test_data=test_data,\n",
    ")"
   ]
  },
  {
   "cell_type": "code",
   "execution_count": null,
   "metadata": {},
   "outputs": [],
   "source": []
  }
 ],
 "metadata": {
  "kernelspec": {
   "display_name": "base",
   "language": "python",
   "name": "python3"
  },
  "language_info": {
   "codemirror_mode": {
    "name": "ipython",
    "version": 3
   },
   "file_extension": ".py",
   "mimetype": "text/x-python",
   "name": "python",
   "nbconvert_exporter": "python",
   "pygments_lexer": "ipython3",
   "version": "3.11.8"
  }
 },
 "nbformat": 4,
 "nbformat_minor": 2
}
