{
 "cells": [
  {
   "cell_type": "code",
   "execution_count": 1,
   "metadata": {},
   "outputs": [],
   "source": [
    "from transformers import AutoTokenizer, AutoModelForCausalLM, pipeline"
   ]
  },
  {
   "cell_type": "code",
   "execution_count": 2,
   "metadata": {},
   "outputs": [],
   "source": [
    "def build_instruction_prompt(instruction):\n",
    "    return '''\n",
    "    You are the Data Science Coder, a helpful AI assistant created by a man named Ed.\n",
    "    You help people with data science coding and you answer questions about data science in a helpful manner.\n",
    "    ### Instruction:\n",
    "    {}\n",
    "    ### Response:\n",
    "    '''.format(instruction.strip()).lstrip()"
   ]
  },
  {
   "cell_type": "code",
   "execution_count": 3,
   "metadata": {},
   "outputs": [
    {
     "name": "stderr",
     "output_type": "stream",
     "text": [
      "Special tokens have been added in the vocabulary, make sure the associated word embeddings are fine-tuned or trained.\n"
     ]
    }
   ],
   "source": [
    "tokenizer = AutoTokenizer.from_pretrained(\"ed001/datascience-coder-1.3b\", trust_remote_code=True)"
   ]
  },
  {
   "cell_type": "code",
   "execution_count": 4,
   "metadata": {},
   "outputs": [
    {
     "data": {
      "application/vnd.jupyter.widget-view+json": {
       "model_id": "88d68a5585594b2e866fbc5c254a72c4",
       "version_major": 2,
       "version_minor": 0
      },
      "text/plain": [
       "generation_config.json:   0%|          | 0.00/119 [00:00<?, ?B/s]"
      ]
     },
     "metadata": {},
     "output_type": "display_data"
    },
    {
     "name": "stderr",
     "output_type": "stream",
     "text": [
      "c:\\anaconda3\\Lib\\site-packages\\huggingface_hub\\file_download.py:148: UserWarning: `huggingface_hub` cache-system uses symlinks by default to efficiently store duplicated files but your machine does not support them in C:\\Users\\nitin\\.cache\\huggingface\\hub\\models--ed001--datascience-coder-1.3b. Caching files will still work but in a degraded version that might require more space on your disk. This warning can be disabled by setting the `HF_HUB_DISABLE_SYMLINKS_WARNING` environment variable. For more details, see https://huggingface.co/docs/huggingface_hub/how-to-cache#limitations.\n",
      "To support symlinks on Windows, you either need to activate Developer Mode or to run Python as an administrator. In order to see activate developer mode, see this article: https://docs.microsoft.com/en-us/windows/apps/get-started/enable-your-device-for-development\n",
      "  warnings.warn(message)\n"
     ]
    }
   ],
   "source": [
    "model = AutoModelForCausalLM.from_pretrained(\"ed001/datascience-coder-1.3b\", trust_remote_code=True).cuda()"
   ]
  },
  {
   "cell_type": "code",
   "execution_count": 5,
   "metadata": {},
   "outputs": [],
   "source": [
    "pipe = pipeline(task=\"text-generation\", model=model, tokenizer=tokenizer, max_length=1024, top_p=0.95)"
   ]
  },
  {
   "cell_type": "code",
   "execution_count": 8,
   "metadata": {},
   "outputs": [],
   "source": [
    "result = pipe(build_instruction_prompt(\"Create a class for feature selection\"))"
   ]
  },
  {
   "cell_type": "code",
   "execution_count": 9,
   "metadata": {},
   "outputs": [
    {
     "name": "stdout",
     "output_type": "stream",
     "text": [
      "You are the Data Science Coder, a helpful AI assistant created by a man named Ed.\n",
      "    You help people with data science coding and you answer questions about data science in a helpful manner.\n",
      "    ### Instruction:\n",
      "    Create a class for feature selection\n",
      "    ### Response:\n",
      "    ```python\n",
      "class FeatureSelection:\n",
      "    def __init__(self, data, target):\n",
      "        self.data = data\n",
      "        self.target = target\n",
      "        self.selected_features = []\n",
      "\n",
      "    def select_features(self, method):\n",
      "        \"\"\"\n",
      "        This method should be overridden by any class that implements feature selection.\n",
      "        The method should take a method as an argument and use it to select the features.\n",
      "        \"\"\"\n",
      "        raise NotImplementedError(\"Subclass must implement this method\")\n",
      "\n",
      "    def get_selected_features(self):\n",
      "        \"\"\"\n",
      "        This method returns the selected features.\n",
      "        \"\"\"\n",
      "        return self.selected_features\n",
      "\n",
      "    def fit(self):\n",
      "        \"\"\"\n",
      "        This method should be called to fit the feature selection model.\n",
      "        \"\"\"\n",
      "        self.selected_features = self.select_features()\n",
      "\n",
      "    def transform(self, data):\n",
      "        \"\"\"\n",
      "        This method should be called to transform the data before feature selection.\n",
      "        \"\"\"\n",
      "        return data\n",
      "\n",
      "    def fit_transform(self, data):\n",
      "        \"\"\"\n",
      "        This method should be called to fit and transform the data before feature selection.\n",
      "        \"\"\"\n",
      "        self.fit()\n",
      "        return self.transform(data)\n",
      "```\n",
      "\n",
      "This class provides a basic structure for a feature selection class. It requires a data and a target variable to be passed to the constructor. The `select_features` method should be implemented by any subclass to select the features. The `fit` method fits the feature selection model, and the `transform` method transforms the data. The `fit_transform` method calls both of these methods.\n",
      "\n",
      "Please note that this is a basic implementation and may need to be adjusted based on the specific requirements of your feature selection method.\n",
      "\n"
     ]
    }
   ],
   "source": [
    "print(result[0]['generated_text'])\n"
   ]
  },
  {
   "cell_type": "code",
   "execution_count": null,
   "metadata": {},
   "outputs": [],
   "source": []
  }
 ],
 "metadata": {
  "kernelspec": {
   "display_name": "base",
   "language": "python",
   "name": "python3"
  },
  "language_info": {
   "codemirror_mode": {
    "name": "ipython",
    "version": 3
   },
   "file_extension": ".py",
   "mimetype": "text/x-python",
   "name": "python",
   "nbconvert_exporter": "python",
   "pygments_lexer": "ipython3",
   "version": "3.11.8"
  }
 },
 "nbformat": 4,
 "nbformat_minor": 2
}
